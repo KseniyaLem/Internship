{
  "nbformat": 4,
  "nbformat_minor": 0,
  "metadata": {
    "colab": {
      "name": "Untitled0.ipynb",
      "provenance": [],
      "collapsed_sections": []
    },
    "kernelspec": {
      "name": "python3",
      "display_name": "Python 3"
    },
    "language_info": {
      "name": "python"
    }
  },
  "cells": [
    {
      "cell_type": "code",
      "source": [
        "!pip install matplotlib==3.4"
      ],
      "metadata": {
        "colab": {
          "base_uri": "https://localhost:8080/"
        },
        "id": "jTgShl3t4yaM",
        "outputId": "0a679655-8833-4406-8e31-b7e954de8f76"
      },
      "execution_count": 1,
      "outputs": [
        {
          "output_type": "stream",
          "name": "stdout",
          "text": [
            "Looking in indexes: https://pypi.org/simple, https://us-python.pkg.dev/colab-wheels/public/simple/\n",
            "Requirement already satisfied: matplotlib==3.4 in /usr/local/lib/python3.7/dist-packages (3.4.0)\n",
            "Requirement already satisfied: pillow>=6.2.0 in /usr/local/lib/python3.7/dist-packages (from matplotlib==3.4) (7.1.2)\n",
            "Requirement already satisfied: numpy>=1.16 in /usr/local/lib/python3.7/dist-packages (from matplotlib==3.4) (1.21.6)\n",
            "Requirement already satisfied: python-dateutil>=2.7 in /usr/local/lib/python3.7/dist-packages (from matplotlib==3.4) (2.8.2)\n",
            "Requirement already satisfied: pyparsing>=2.2.1 in /usr/local/lib/python3.7/dist-packages (from matplotlib==3.4) (3.0.9)\n",
            "Requirement already satisfied: cycler>=0.10 in /usr/local/lib/python3.7/dist-packages (from matplotlib==3.4) (0.11.0)\n",
            "Requirement already satisfied: kiwisolver>=1.0.1 in /usr/local/lib/python3.7/dist-packages (from matplotlib==3.4) (1.4.2)\n",
            "Requirement already satisfied: typing-extensions in /usr/local/lib/python3.7/dist-packages (from kiwisolver>=1.0.1->matplotlib==3.4) (4.2.0)\n",
            "Requirement already satisfied: six>=1.5 in /usr/local/lib/python3.7/dist-packages (from python-dateutil>=2.7->matplotlib==3.4) (1.15.0)\n"
          ]
        }
      ]
    },
    {
      "cell_type": "code",
      "execution_count": 2,
      "metadata": {
        "id": "0nuqR3uOCBZg"
      },
      "outputs": [],
      "source": [
        "import pandas as pd\n",
        "import numpy as np\n",
        "import matplotlib.pylab as plt\n",
        "import pylab\n",
        "from sklearn import preprocessing\n",
        "import plotly.express as px\n",
        "import seaborn as sns"
      ]
    },
    {
      "cell_type": "code",
      "source": [
        "from google.colab import drive\n",
        "drive.mount('/content/drive')\n",
        "\n",
        "import os\n",
        "os.chdir('/content/drive/MyDrive/Colab Notebooks/Data Glacier internship/week2')"
      ],
      "metadata": {
        "colab": {
          "base_uri": "https://localhost:8080/"
        },
        "id": "qOr1Dxq7DcVx",
        "outputId": "7acbb96a-7e05-41e7-8a98-61e7856bd4e2"
      },
      "execution_count": 3,
      "outputs": [
        {
          "output_type": "stream",
          "name": "stdout",
          "text": [
            "Drive already mounted at /content/drive; to attempt to forcibly remount, call drive.mount(\"/content/drive\", force_remount=True).\n"
          ]
        }
      ]
    },
    {
      "cell_type": "code",
      "source": [
        "cab_data = pd.read_csv('Cab_Data.csv')\n",
        "city = pd.read_csv('City.csv')\n",
        "customer_id = pd.read_csv('Customer_ID.csv')\n",
        "transaction_id = pd.read_csv('Transaction_ID.csv')"
      ],
      "metadata": {
        "id": "LkvNDkZICZJH"
      },
      "execution_count": 4,
      "outputs": []
    },
    {
      "cell_type": "markdown",
      "source": [
        "## Investigating the data"
      ],
      "metadata": {
        "id": "0ZtR0QD9svzx"
      }
    },
    {
      "cell_type": "code",
      "source": [
        "cab_data.head()"
      ],
      "metadata": {
        "colab": {
          "base_uri": "https://localhost:8080/",
          "height": 206
        },
        "id": "t_R4Pz2ECx9k",
        "outputId": "12443ff7-fc2c-46af-926d-2b92b9c08038"
      },
      "execution_count": 5,
      "outputs": [
        {
          "output_type": "execute_result",
          "data": {
            "text/plain": [
              "   Transaction ID Date of Travel   Company        City  KM Travelled  \\\n",
              "0        10000011     08-01-2016  Pink Cab  ATLANTA GA         30.45   \n",
              "1        10000012     06-01-2016  Pink Cab  ATLANTA GA         28.62   \n",
              "2        10000013     02-01-2016  Pink Cab  ATLANTA GA          9.04   \n",
              "3        10000014     07-01-2016  Pink Cab  ATLANTA GA         33.17   \n",
              "4        10000015     03-01-2016  Pink Cab  ATLANTA GA          8.73   \n",
              "\n",
              "   Price Charged  Cost of Trip  \n",
              "0         370.95       313.635  \n",
              "1         358.52       334.854  \n",
              "2         125.20        97.632  \n",
              "3         377.40       351.602  \n",
              "4         114.62        97.776  "
            ],
            "text/html": [
              "\n",
              "  <div id=\"df-4d657073-7920-42a3-91c7-321f56f7e5a1\">\n",
              "    <div class=\"colab-df-container\">\n",
              "      <div>\n",
              "<style scoped>\n",
              "    .dataframe tbody tr th:only-of-type {\n",
              "        vertical-align: middle;\n",
              "    }\n",
              "\n",
              "    .dataframe tbody tr th {\n",
              "        vertical-align: top;\n",
              "    }\n",
              "\n",
              "    .dataframe thead th {\n",
              "        text-align: right;\n",
              "    }\n",
              "</style>\n",
              "<table border=\"1\" class=\"dataframe\">\n",
              "  <thead>\n",
              "    <tr style=\"text-align: right;\">\n",
              "      <th></th>\n",
              "      <th>Transaction ID</th>\n",
              "      <th>Date of Travel</th>\n",
              "      <th>Company</th>\n",
              "      <th>City</th>\n",
              "      <th>KM Travelled</th>\n",
              "      <th>Price Charged</th>\n",
              "      <th>Cost of Trip</th>\n",
              "    </tr>\n",
              "  </thead>\n",
              "  <tbody>\n",
              "    <tr>\n",
              "      <th>0</th>\n",
              "      <td>10000011</td>\n",
              "      <td>08-01-2016</td>\n",
              "      <td>Pink Cab</td>\n",
              "      <td>ATLANTA GA</td>\n",
              "      <td>30.45</td>\n",
              "      <td>370.95</td>\n",
              "      <td>313.635</td>\n",
              "    </tr>\n",
              "    <tr>\n",
              "      <th>1</th>\n",
              "      <td>10000012</td>\n",
              "      <td>06-01-2016</td>\n",
              "      <td>Pink Cab</td>\n",
              "      <td>ATLANTA GA</td>\n",
              "      <td>28.62</td>\n",
              "      <td>358.52</td>\n",
              "      <td>334.854</td>\n",
              "    </tr>\n",
              "    <tr>\n",
              "      <th>2</th>\n",
              "      <td>10000013</td>\n",
              "      <td>02-01-2016</td>\n",
              "      <td>Pink Cab</td>\n",
              "      <td>ATLANTA GA</td>\n",
              "      <td>9.04</td>\n",
              "      <td>125.20</td>\n",
              "      <td>97.632</td>\n",
              "    </tr>\n",
              "    <tr>\n",
              "      <th>3</th>\n",
              "      <td>10000014</td>\n",
              "      <td>07-01-2016</td>\n",
              "      <td>Pink Cab</td>\n",
              "      <td>ATLANTA GA</td>\n",
              "      <td>33.17</td>\n",
              "      <td>377.40</td>\n",
              "      <td>351.602</td>\n",
              "    </tr>\n",
              "    <tr>\n",
              "      <th>4</th>\n",
              "      <td>10000015</td>\n",
              "      <td>03-01-2016</td>\n",
              "      <td>Pink Cab</td>\n",
              "      <td>ATLANTA GA</td>\n",
              "      <td>8.73</td>\n",
              "      <td>114.62</td>\n",
              "      <td>97.776</td>\n",
              "    </tr>\n",
              "  </tbody>\n",
              "</table>\n",
              "</div>\n",
              "      <button class=\"colab-df-convert\" onclick=\"convertToInteractive('df-4d657073-7920-42a3-91c7-321f56f7e5a1')\"\n",
              "              title=\"Convert this dataframe to an interactive table.\"\n",
              "              style=\"display:none;\">\n",
              "        \n",
              "  <svg xmlns=\"http://www.w3.org/2000/svg\" height=\"24px\"viewBox=\"0 0 24 24\"\n",
              "       width=\"24px\">\n",
              "    <path d=\"M0 0h24v24H0V0z\" fill=\"none\"/>\n",
              "    <path d=\"M18.56 5.44l.94 2.06.94-2.06 2.06-.94-2.06-.94-.94-2.06-.94 2.06-2.06.94zm-11 1L8.5 8.5l.94-2.06 2.06-.94-2.06-.94L8.5 2.5l-.94 2.06-2.06.94zm10 10l.94 2.06.94-2.06 2.06-.94-2.06-.94-.94-2.06-.94 2.06-2.06.94z\"/><path d=\"M17.41 7.96l-1.37-1.37c-.4-.4-.92-.59-1.43-.59-.52 0-1.04.2-1.43.59L10.3 9.45l-7.72 7.72c-.78.78-.78 2.05 0 2.83L4 21.41c.39.39.9.59 1.41.59.51 0 1.02-.2 1.41-.59l7.78-7.78 2.81-2.81c.8-.78.8-2.07 0-2.86zM5.41 20L4 18.59l7.72-7.72 1.47 1.35L5.41 20z\"/>\n",
              "  </svg>\n",
              "      </button>\n",
              "      \n",
              "  <style>\n",
              "    .colab-df-container {\n",
              "      display:flex;\n",
              "      flex-wrap:wrap;\n",
              "      gap: 12px;\n",
              "    }\n",
              "\n",
              "    .colab-df-convert {\n",
              "      background-color: #E8F0FE;\n",
              "      border: none;\n",
              "      border-radius: 50%;\n",
              "      cursor: pointer;\n",
              "      display: none;\n",
              "      fill: #1967D2;\n",
              "      height: 32px;\n",
              "      padding: 0 0 0 0;\n",
              "      width: 32px;\n",
              "    }\n",
              "\n",
              "    .colab-df-convert:hover {\n",
              "      background-color: #E2EBFA;\n",
              "      box-shadow: 0px 1px 2px rgba(60, 64, 67, 0.3), 0px 1px 3px 1px rgba(60, 64, 67, 0.15);\n",
              "      fill: #174EA6;\n",
              "    }\n",
              "\n",
              "    [theme=dark] .colab-df-convert {\n",
              "      background-color: #3B4455;\n",
              "      fill: #D2E3FC;\n",
              "    }\n",
              "\n",
              "    [theme=dark] .colab-df-convert:hover {\n",
              "      background-color: #434B5C;\n",
              "      box-shadow: 0px 1px 3px 1px rgba(0, 0, 0, 0.15);\n",
              "      filter: drop-shadow(0px 1px 2px rgba(0, 0, 0, 0.3));\n",
              "      fill: #FFFFFF;\n",
              "    }\n",
              "  </style>\n",
              "\n",
              "      <script>\n",
              "        const buttonEl =\n",
              "          document.querySelector('#df-4d657073-7920-42a3-91c7-321f56f7e5a1 button.colab-df-convert');\n",
              "        buttonEl.style.display =\n",
              "          google.colab.kernel.accessAllowed ? 'block' : 'none';\n",
              "\n",
              "        async function convertToInteractive(key) {\n",
              "          const element = document.querySelector('#df-4d657073-7920-42a3-91c7-321f56f7e5a1');\n",
              "          const dataTable =\n",
              "            await google.colab.kernel.invokeFunction('convertToInteractive',\n",
              "                                                     [key], {});\n",
              "          if (!dataTable) return;\n",
              "\n",
              "          const docLinkHtml = 'Like what you see? Visit the ' +\n",
              "            '<a target=\"_blank\" href=https://colab.research.google.com/notebooks/data_table.ipynb>data table notebook</a>'\n",
              "            + ' to learn more about interactive tables.';\n",
              "          element.innerHTML = '';\n",
              "          dataTable['output_type'] = 'display_data';\n",
              "          await google.colab.output.renderOutput(dataTable, element);\n",
              "          const docLink = document.createElement('div');\n",
              "          docLink.innerHTML = docLinkHtml;\n",
              "          element.appendChild(docLink);\n",
              "        }\n",
              "      </script>\n",
              "    </div>\n",
              "  </div>\n",
              "  "
            ]
          },
          "metadata": {},
          "execution_count": 5
        }
      ]
    },
    {
      "cell_type": "code",
      "source": [
        "print('Shape: ', cab_data.shape)\n",
        "print()\n",
        "print('null value: ')\n",
        "print(cab_data.isna().sum())\n",
        "print()\n",
        "print('data types: ')\n",
        "print(cab_data.dtypes)"
      ],
      "metadata": {
        "colab": {
          "base_uri": "https://localhost:8080/"
        },
        "id": "aAXFznNqsVr3",
        "outputId": "a865867c-cb2a-4e68-b2ac-9a534178b0b0"
      },
      "execution_count": 6,
      "outputs": [
        {
          "output_type": "stream",
          "name": "stdout",
          "text": [
            "Shape:  (359392, 7)\n",
            "\n",
            "null value: \n",
            "Transaction ID    0\n",
            "Date of Travel    0\n",
            "Company           0\n",
            "City              0\n",
            "KM Travelled      0\n",
            "Price Charged     0\n",
            "Cost of Trip      0\n",
            "dtype: int64\n",
            "\n",
            "data types: \n",
            "Transaction ID      int64\n",
            "Date of Travel     object\n",
            "Company            object\n",
            "City               object\n",
            "KM Travelled      float64\n",
            "Price Charged     float64\n",
            "Cost of Trip      float64\n",
            "dtype: object\n"
          ]
        }
      ]
    },
    {
      "cell_type": "code",
      "source": [
        "#separate date in month and year\n",
        "cab_data['Date of Travel'] = pd.to_datetime(cab_data['Date of Travel'])\n",
        "cab_data['Month'] = cab_data['Date of Travel'].dt.month\n",
        "cab_data['Year'] = cab_data['Date of Travel'].dt.year"
      ],
      "metadata": {
        "id": "eZtNAO5nAyj3"
      },
      "execution_count": 7,
      "outputs": []
    },
    {
      "cell_type": "code",
      "source": [
        "city"
      ],
      "metadata": {
        "colab": {
          "base_uri": "https://localhost:8080/",
          "height": 676
        },
        "id": "vFL0NCokEGao",
        "outputId": "54b9657b-e0fe-4262-bb0a-c00ef5348360"
      },
      "execution_count": 8,
      "outputs": [
        {
          "output_type": "execute_result",
          "data": {
            "text/plain": [
              "                City   Population      Users\n",
              "0        NEW YORK NY   8,405,837    302,149 \n",
              "1         CHICAGO IL   1,955,130    164,468 \n",
              "2     LOS ANGELES CA   1,595,037    144,132 \n",
              "3           MIAMI FL   1,339,155     17,675 \n",
              "4     SILICON VALLEY   1,177,609     27,247 \n",
              "5      ORANGE COUNTY   1,030,185     12,994 \n",
              "6       SAN DIEGO CA     959,307     69,995 \n",
              "7         PHOENIX AZ     943,999      6,133 \n",
              "8          DALLAS TX     942,908     22,157 \n",
              "9         ATLANTA GA     814,885     24,701 \n",
              "10         DENVER CO     754,233     12,421 \n",
              "11         AUSTIN TX     698,371     14,978 \n",
              "12        SEATTLE WA     671,238     25,063 \n",
              "13         TUCSON AZ     631,442      5,712 \n",
              "14  SAN FRANCISCO CA     629,591    213,609 \n",
              "15     SACRAMENTO CA     545,776      7,044 \n",
              "16     PITTSBURGH PA     542,085      3,643 \n",
              "17     WASHINGTON DC     418,859    127,001 \n",
              "18      NASHVILLE TN     327,225      9,270 \n",
              "19         BOSTON MA     248,968     80,021 "
            ],
            "text/html": [
              "\n",
              "  <div id=\"df-fb453062-59b1-45bd-8aad-7cad1266933f\">\n",
              "    <div class=\"colab-df-container\">\n",
              "      <div>\n",
              "<style scoped>\n",
              "    .dataframe tbody tr th:only-of-type {\n",
              "        vertical-align: middle;\n",
              "    }\n",
              "\n",
              "    .dataframe tbody tr th {\n",
              "        vertical-align: top;\n",
              "    }\n",
              "\n",
              "    .dataframe thead th {\n",
              "        text-align: right;\n",
              "    }\n",
              "</style>\n",
              "<table border=\"1\" class=\"dataframe\">\n",
              "  <thead>\n",
              "    <tr style=\"text-align: right;\">\n",
              "      <th></th>\n",
              "      <th>City</th>\n",
              "      <th>Population</th>\n",
              "      <th>Users</th>\n",
              "    </tr>\n",
              "  </thead>\n",
              "  <tbody>\n",
              "    <tr>\n",
              "      <th>0</th>\n",
              "      <td>NEW YORK NY</td>\n",
              "      <td>8,405,837</td>\n",
              "      <td>302,149</td>\n",
              "    </tr>\n",
              "    <tr>\n",
              "      <th>1</th>\n",
              "      <td>CHICAGO IL</td>\n",
              "      <td>1,955,130</td>\n",
              "      <td>164,468</td>\n",
              "    </tr>\n",
              "    <tr>\n",
              "      <th>2</th>\n",
              "      <td>LOS ANGELES CA</td>\n",
              "      <td>1,595,037</td>\n",
              "      <td>144,132</td>\n",
              "    </tr>\n",
              "    <tr>\n",
              "      <th>3</th>\n",
              "      <td>MIAMI FL</td>\n",
              "      <td>1,339,155</td>\n",
              "      <td>17,675</td>\n",
              "    </tr>\n",
              "    <tr>\n",
              "      <th>4</th>\n",
              "      <td>SILICON VALLEY</td>\n",
              "      <td>1,177,609</td>\n",
              "      <td>27,247</td>\n",
              "    </tr>\n",
              "    <tr>\n",
              "      <th>5</th>\n",
              "      <td>ORANGE COUNTY</td>\n",
              "      <td>1,030,185</td>\n",
              "      <td>12,994</td>\n",
              "    </tr>\n",
              "    <tr>\n",
              "      <th>6</th>\n",
              "      <td>SAN DIEGO CA</td>\n",
              "      <td>959,307</td>\n",
              "      <td>69,995</td>\n",
              "    </tr>\n",
              "    <tr>\n",
              "      <th>7</th>\n",
              "      <td>PHOENIX AZ</td>\n",
              "      <td>943,999</td>\n",
              "      <td>6,133</td>\n",
              "    </tr>\n",
              "    <tr>\n",
              "      <th>8</th>\n",
              "      <td>DALLAS TX</td>\n",
              "      <td>942,908</td>\n",
              "      <td>22,157</td>\n",
              "    </tr>\n",
              "    <tr>\n",
              "      <th>9</th>\n",
              "      <td>ATLANTA GA</td>\n",
              "      <td>814,885</td>\n",
              "      <td>24,701</td>\n",
              "    </tr>\n",
              "    <tr>\n",
              "      <th>10</th>\n",
              "      <td>DENVER CO</td>\n",
              "      <td>754,233</td>\n",
              "      <td>12,421</td>\n",
              "    </tr>\n",
              "    <tr>\n",
              "      <th>11</th>\n",
              "      <td>AUSTIN TX</td>\n",
              "      <td>698,371</td>\n",
              "      <td>14,978</td>\n",
              "    </tr>\n",
              "    <tr>\n",
              "      <th>12</th>\n",
              "      <td>SEATTLE WA</td>\n",
              "      <td>671,238</td>\n",
              "      <td>25,063</td>\n",
              "    </tr>\n",
              "    <tr>\n",
              "      <th>13</th>\n",
              "      <td>TUCSON AZ</td>\n",
              "      <td>631,442</td>\n",
              "      <td>5,712</td>\n",
              "    </tr>\n",
              "    <tr>\n",
              "      <th>14</th>\n",
              "      <td>SAN FRANCISCO CA</td>\n",
              "      <td>629,591</td>\n",
              "      <td>213,609</td>\n",
              "    </tr>\n",
              "    <tr>\n",
              "      <th>15</th>\n",
              "      <td>SACRAMENTO CA</td>\n",
              "      <td>545,776</td>\n",
              "      <td>7,044</td>\n",
              "    </tr>\n",
              "    <tr>\n",
              "      <th>16</th>\n",
              "      <td>PITTSBURGH PA</td>\n",
              "      <td>542,085</td>\n",
              "      <td>3,643</td>\n",
              "    </tr>\n",
              "    <tr>\n",
              "      <th>17</th>\n",
              "      <td>WASHINGTON DC</td>\n",
              "      <td>418,859</td>\n",
              "      <td>127,001</td>\n",
              "    </tr>\n",
              "    <tr>\n",
              "      <th>18</th>\n",
              "      <td>NASHVILLE TN</td>\n",
              "      <td>327,225</td>\n",
              "      <td>9,270</td>\n",
              "    </tr>\n",
              "    <tr>\n",
              "      <th>19</th>\n",
              "      <td>BOSTON MA</td>\n",
              "      <td>248,968</td>\n",
              "      <td>80,021</td>\n",
              "    </tr>\n",
              "  </tbody>\n",
              "</table>\n",
              "</div>\n",
              "      <button class=\"colab-df-convert\" onclick=\"convertToInteractive('df-fb453062-59b1-45bd-8aad-7cad1266933f')\"\n",
              "              title=\"Convert this dataframe to an interactive table.\"\n",
              "              style=\"display:none;\">\n",
              "        \n",
              "  <svg xmlns=\"http://www.w3.org/2000/svg\" height=\"24px\"viewBox=\"0 0 24 24\"\n",
              "       width=\"24px\">\n",
              "    <path d=\"M0 0h24v24H0V0z\" fill=\"none\"/>\n",
              "    <path d=\"M18.56 5.44l.94 2.06.94-2.06 2.06-.94-2.06-.94-.94-2.06-.94 2.06-2.06.94zm-11 1L8.5 8.5l.94-2.06 2.06-.94-2.06-.94L8.5 2.5l-.94 2.06-2.06.94zm10 10l.94 2.06.94-2.06 2.06-.94-2.06-.94-.94-2.06-.94 2.06-2.06.94z\"/><path d=\"M17.41 7.96l-1.37-1.37c-.4-.4-.92-.59-1.43-.59-.52 0-1.04.2-1.43.59L10.3 9.45l-7.72 7.72c-.78.78-.78 2.05 0 2.83L4 21.41c.39.39.9.59 1.41.59.51 0 1.02-.2 1.41-.59l7.78-7.78 2.81-2.81c.8-.78.8-2.07 0-2.86zM5.41 20L4 18.59l7.72-7.72 1.47 1.35L5.41 20z\"/>\n",
              "  </svg>\n",
              "      </button>\n",
              "      \n",
              "  <style>\n",
              "    .colab-df-container {\n",
              "      display:flex;\n",
              "      flex-wrap:wrap;\n",
              "      gap: 12px;\n",
              "    }\n",
              "\n",
              "    .colab-df-convert {\n",
              "      background-color: #E8F0FE;\n",
              "      border: none;\n",
              "      border-radius: 50%;\n",
              "      cursor: pointer;\n",
              "      display: none;\n",
              "      fill: #1967D2;\n",
              "      height: 32px;\n",
              "      padding: 0 0 0 0;\n",
              "      width: 32px;\n",
              "    }\n",
              "\n",
              "    .colab-df-convert:hover {\n",
              "      background-color: #E2EBFA;\n",
              "      box-shadow: 0px 1px 2px rgba(60, 64, 67, 0.3), 0px 1px 3px 1px rgba(60, 64, 67, 0.15);\n",
              "      fill: #174EA6;\n",
              "    }\n",
              "\n",
              "    [theme=dark] .colab-df-convert {\n",
              "      background-color: #3B4455;\n",
              "      fill: #D2E3FC;\n",
              "    }\n",
              "\n",
              "    [theme=dark] .colab-df-convert:hover {\n",
              "      background-color: #434B5C;\n",
              "      box-shadow: 0px 1px 3px 1px rgba(0, 0, 0, 0.15);\n",
              "      filter: drop-shadow(0px 1px 2px rgba(0, 0, 0, 0.3));\n",
              "      fill: #FFFFFF;\n",
              "    }\n",
              "  </style>\n",
              "\n",
              "      <script>\n",
              "        const buttonEl =\n",
              "          document.querySelector('#df-fb453062-59b1-45bd-8aad-7cad1266933f button.colab-df-convert');\n",
              "        buttonEl.style.display =\n",
              "          google.colab.kernel.accessAllowed ? 'block' : 'none';\n",
              "\n",
              "        async function convertToInteractive(key) {\n",
              "          const element = document.querySelector('#df-fb453062-59b1-45bd-8aad-7cad1266933f');\n",
              "          const dataTable =\n",
              "            await google.colab.kernel.invokeFunction('convertToInteractive',\n",
              "                                                     [key], {});\n",
              "          if (!dataTable) return;\n",
              "\n",
              "          const docLinkHtml = 'Like what you see? Visit the ' +\n",
              "            '<a target=\"_blank\" href=https://colab.research.google.com/notebooks/data_table.ipynb>data table notebook</a>'\n",
              "            + ' to learn more about interactive tables.';\n",
              "          element.innerHTML = '';\n",
              "          dataTable['output_type'] = 'display_data';\n",
              "          await google.colab.output.renderOutput(dataTable, element);\n",
              "          const docLink = document.createElement('div');\n",
              "          docLink.innerHTML = docLinkHtml;\n",
              "          element.appendChild(docLink);\n",
              "        }\n",
              "      </script>\n",
              "    </div>\n",
              "  </div>\n",
              "  "
            ]
          },
          "metadata": {},
          "execution_count": 8
        }
      ]
    },
    {
      "cell_type": "code",
      "source": [
        "print('Shape: ', city.shape)\n",
        "print()\n",
        "print('null value: ')\n",
        "print(city.isna().sum())\n",
        "print()\n",
        "print('data types: ')\n",
        "print(city.dtypes)"
      ],
      "metadata": {
        "colab": {
          "base_uri": "https://localhost:8080/"
        },
        "id": "pbkdc8GTB2O7",
        "outputId": "5cab0d1f-512d-46ef-d61a-67e910c81de3"
      },
      "execution_count": 9,
      "outputs": [
        {
          "output_type": "stream",
          "name": "stdout",
          "text": [
            "Shape:  (20, 3)\n",
            "\n",
            "null value: \n",
            "City          0\n",
            "Population    0\n",
            "Users         0\n",
            "dtype: int64\n",
            "\n",
            "data types: \n",
            "City          object\n",
            "Population    object\n",
            "Users         object\n",
            "dtype: object\n"
          ]
        }
      ]
    },
    {
      "cell_type": "code",
      "source": [
        "city['Population'] = city['Population'].str.replace(',', '').astype(int)\n",
        "city['Users'] = city['Users'].str.replace(',', '').astype(int)"
      ],
      "metadata": {
        "id": "WR-R0CArB5vR"
      },
      "execution_count": 10,
      "outputs": []
    },
    {
      "cell_type": "code",
      "source": [
        "print('data types: ')\n",
        "print(city.dtypes)"
      ],
      "metadata": {
        "colab": {
          "base_uri": "https://localhost:8080/"
        },
        "id": "vm3tUiJmCVJZ",
        "outputId": "aad60886-9b7b-46bf-e6d0-43e3388a331c"
      },
      "execution_count": 11,
      "outputs": [
        {
          "output_type": "stream",
          "name": "stdout",
          "text": [
            "data types: \n",
            "City          object\n",
            "Population     int64\n",
            "Users          int64\n",
            "dtype: object\n"
          ]
        }
      ]
    },
    {
      "cell_type": "code",
      "source": [
        "city.head()"
      ],
      "metadata": {
        "colab": {
          "base_uri": "https://localhost:8080/",
          "height": 206
        },
        "id": "idId_DV4CXcj",
        "outputId": "c7b9dd88-4d60-4ffd-e584-ae1e0a038d02"
      },
      "execution_count": 12,
      "outputs": [
        {
          "output_type": "execute_result",
          "data": {
            "text/plain": [
              "             City  Population   Users\n",
              "0     NEW YORK NY     8405837  302149\n",
              "1      CHICAGO IL     1955130  164468\n",
              "2  LOS ANGELES CA     1595037  144132\n",
              "3        MIAMI FL     1339155   17675\n",
              "4  SILICON VALLEY     1177609   27247"
            ],
            "text/html": [
              "\n",
              "  <div id=\"df-3782f310-5b7b-4b59-bedb-b282548d476e\">\n",
              "    <div class=\"colab-df-container\">\n",
              "      <div>\n",
              "<style scoped>\n",
              "    .dataframe tbody tr th:only-of-type {\n",
              "        vertical-align: middle;\n",
              "    }\n",
              "\n",
              "    .dataframe tbody tr th {\n",
              "        vertical-align: top;\n",
              "    }\n",
              "\n",
              "    .dataframe thead th {\n",
              "        text-align: right;\n",
              "    }\n",
              "</style>\n",
              "<table border=\"1\" class=\"dataframe\">\n",
              "  <thead>\n",
              "    <tr style=\"text-align: right;\">\n",
              "      <th></th>\n",
              "      <th>City</th>\n",
              "      <th>Population</th>\n",
              "      <th>Users</th>\n",
              "    </tr>\n",
              "  </thead>\n",
              "  <tbody>\n",
              "    <tr>\n",
              "      <th>0</th>\n",
              "      <td>NEW YORK NY</td>\n",
              "      <td>8405837</td>\n",
              "      <td>302149</td>\n",
              "    </tr>\n",
              "    <tr>\n",
              "      <th>1</th>\n",
              "      <td>CHICAGO IL</td>\n",
              "      <td>1955130</td>\n",
              "      <td>164468</td>\n",
              "    </tr>\n",
              "    <tr>\n",
              "      <th>2</th>\n",
              "      <td>LOS ANGELES CA</td>\n",
              "      <td>1595037</td>\n",
              "      <td>144132</td>\n",
              "    </tr>\n",
              "    <tr>\n",
              "      <th>3</th>\n",
              "      <td>MIAMI FL</td>\n",
              "      <td>1339155</td>\n",
              "      <td>17675</td>\n",
              "    </tr>\n",
              "    <tr>\n",
              "      <th>4</th>\n",
              "      <td>SILICON VALLEY</td>\n",
              "      <td>1177609</td>\n",
              "      <td>27247</td>\n",
              "    </tr>\n",
              "  </tbody>\n",
              "</table>\n",
              "</div>\n",
              "      <button class=\"colab-df-convert\" onclick=\"convertToInteractive('df-3782f310-5b7b-4b59-bedb-b282548d476e')\"\n",
              "              title=\"Convert this dataframe to an interactive table.\"\n",
              "              style=\"display:none;\">\n",
              "        \n",
              "  <svg xmlns=\"http://www.w3.org/2000/svg\" height=\"24px\"viewBox=\"0 0 24 24\"\n",
              "       width=\"24px\">\n",
              "    <path d=\"M0 0h24v24H0V0z\" fill=\"none\"/>\n",
              "    <path d=\"M18.56 5.44l.94 2.06.94-2.06 2.06-.94-2.06-.94-.94-2.06-.94 2.06-2.06.94zm-11 1L8.5 8.5l.94-2.06 2.06-.94-2.06-.94L8.5 2.5l-.94 2.06-2.06.94zm10 10l.94 2.06.94-2.06 2.06-.94-2.06-.94-.94-2.06-.94 2.06-2.06.94z\"/><path d=\"M17.41 7.96l-1.37-1.37c-.4-.4-.92-.59-1.43-.59-.52 0-1.04.2-1.43.59L10.3 9.45l-7.72 7.72c-.78.78-.78 2.05 0 2.83L4 21.41c.39.39.9.59 1.41.59.51 0 1.02-.2 1.41-.59l7.78-7.78 2.81-2.81c.8-.78.8-2.07 0-2.86zM5.41 20L4 18.59l7.72-7.72 1.47 1.35L5.41 20z\"/>\n",
              "  </svg>\n",
              "      </button>\n",
              "      \n",
              "  <style>\n",
              "    .colab-df-container {\n",
              "      display:flex;\n",
              "      flex-wrap:wrap;\n",
              "      gap: 12px;\n",
              "    }\n",
              "\n",
              "    .colab-df-convert {\n",
              "      background-color: #E8F0FE;\n",
              "      border: none;\n",
              "      border-radius: 50%;\n",
              "      cursor: pointer;\n",
              "      display: none;\n",
              "      fill: #1967D2;\n",
              "      height: 32px;\n",
              "      padding: 0 0 0 0;\n",
              "      width: 32px;\n",
              "    }\n",
              "\n",
              "    .colab-df-convert:hover {\n",
              "      background-color: #E2EBFA;\n",
              "      box-shadow: 0px 1px 2px rgba(60, 64, 67, 0.3), 0px 1px 3px 1px rgba(60, 64, 67, 0.15);\n",
              "      fill: #174EA6;\n",
              "    }\n",
              "\n",
              "    [theme=dark] .colab-df-convert {\n",
              "      background-color: #3B4455;\n",
              "      fill: #D2E3FC;\n",
              "    }\n",
              "\n",
              "    [theme=dark] .colab-df-convert:hover {\n",
              "      background-color: #434B5C;\n",
              "      box-shadow: 0px 1px 3px 1px rgba(0, 0, 0, 0.15);\n",
              "      filter: drop-shadow(0px 1px 2px rgba(0, 0, 0, 0.3));\n",
              "      fill: #FFFFFF;\n",
              "    }\n",
              "  </style>\n",
              "\n",
              "      <script>\n",
              "        const buttonEl =\n",
              "          document.querySelector('#df-3782f310-5b7b-4b59-bedb-b282548d476e button.colab-df-convert');\n",
              "        buttonEl.style.display =\n",
              "          google.colab.kernel.accessAllowed ? 'block' : 'none';\n",
              "\n",
              "        async function convertToInteractive(key) {\n",
              "          const element = document.querySelector('#df-3782f310-5b7b-4b59-bedb-b282548d476e');\n",
              "          const dataTable =\n",
              "            await google.colab.kernel.invokeFunction('convertToInteractive',\n",
              "                                                     [key], {});\n",
              "          if (!dataTable) return;\n",
              "\n",
              "          const docLinkHtml = 'Like what you see? Visit the ' +\n",
              "            '<a target=\"_blank\" href=https://colab.research.google.com/notebooks/data_table.ipynb>data table notebook</a>'\n",
              "            + ' to learn more about interactive tables.';\n",
              "          element.innerHTML = '';\n",
              "          dataTable['output_type'] = 'display_data';\n",
              "          await google.colab.output.renderOutput(dataTable, element);\n",
              "          const docLink = document.createElement('div');\n",
              "          docLink.innerHTML = docLinkHtml;\n",
              "          element.appendChild(docLink);\n",
              "        }\n",
              "      </script>\n",
              "    </div>\n",
              "  </div>\n",
              "  "
            ]
          },
          "metadata": {},
          "execution_count": 12
        }
      ]
    },
    {
      "cell_type": "code",
      "source": [
        "customer_id.head()"
      ],
      "metadata": {
        "colab": {
          "base_uri": "https://localhost:8080/",
          "height": 206
        },
        "id": "AfDgHXsgEhPY",
        "outputId": "17cade29-5d1c-4ffa-853c-101e6923092e"
      },
      "execution_count": 13,
      "outputs": [
        {
          "output_type": "execute_result",
          "data": {
            "text/plain": [
              "   Customer ID Gender  Age  Income (USD/Month)\n",
              "0        29290   Male   28               10813\n",
              "1        27703   Male   27                9237\n",
              "2        28712   Male   53               11242\n",
              "3        28020   Male   23               23327\n",
              "4        27182   Male   33                8536"
            ],
            "text/html": [
              "\n",
              "  <div id=\"df-833248c4-ea95-4705-a665-a98e771f6d10\">\n",
              "    <div class=\"colab-df-container\">\n",
              "      <div>\n",
              "<style scoped>\n",
              "    .dataframe tbody tr th:only-of-type {\n",
              "        vertical-align: middle;\n",
              "    }\n",
              "\n",
              "    .dataframe tbody tr th {\n",
              "        vertical-align: top;\n",
              "    }\n",
              "\n",
              "    .dataframe thead th {\n",
              "        text-align: right;\n",
              "    }\n",
              "</style>\n",
              "<table border=\"1\" class=\"dataframe\">\n",
              "  <thead>\n",
              "    <tr style=\"text-align: right;\">\n",
              "      <th></th>\n",
              "      <th>Customer ID</th>\n",
              "      <th>Gender</th>\n",
              "      <th>Age</th>\n",
              "      <th>Income (USD/Month)</th>\n",
              "    </tr>\n",
              "  </thead>\n",
              "  <tbody>\n",
              "    <tr>\n",
              "      <th>0</th>\n",
              "      <td>29290</td>\n",
              "      <td>Male</td>\n",
              "      <td>28</td>\n",
              "      <td>10813</td>\n",
              "    </tr>\n",
              "    <tr>\n",
              "      <th>1</th>\n",
              "      <td>27703</td>\n",
              "      <td>Male</td>\n",
              "      <td>27</td>\n",
              "      <td>9237</td>\n",
              "    </tr>\n",
              "    <tr>\n",
              "      <th>2</th>\n",
              "      <td>28712</td>\n",
              "      <td>Male</td>\n",
              "      <td>53</td>\n",
              "      <td>11242</td>\n",
              "    </tr>\n",
              "    <tr>\n",
              "      <th>3</th>\n",
              "      <td>28020</td>\n",
              "      <td>Male</td>\n",
              "      <td>23</td>\n",
              "      <td>23327</td>\n",
              "    </tr>\n",
              "    <tr>\n",
              "      <th>4</th>\n",
              "      <td>27182</td>\n",
              "      <td>Male</td>\n",
              "      <td>33</td>\n",
              "      <td>8536</td>\n",
              "    </tr>\n",
              "  </tbody>\n",
              "</table>\n",
              "</div>\n",
              "      <button class=\"colab-df-convert\" onclick=\"convertToInteractive('df-833248c4-ea95-4705-a665-a98e771f6d10')\"\n",
              "              title=\"Convert this dataframe to an interactive table.\"\n",
              "              style=\"display:none;\">\n",
              "        \n",
              "  <svg xmlns=\"http://www.w3.org/2000/svg\" height=\"24px\"viewBox=\"0 0 24 24\"\n",
              "       width=\"24px\">\n",
              "    <path d=\"M0 0h24v24H0V0z\" fill=\"none\"/>\n",
              "    <path d=\"M18.56 5.44l.94 2.06.94-2.06 2.06-.94-2.06-.94-.94-2.06-.94 2.06-2.06.94zm-11 1L8.5 8.5l.94-2.06 2.06-.94-2.06-.94L8.5 2.5l-.94 2.06-2.06.94zm10 10l.94 2.06.94-2.06 2.06-.94-2.06-.94-.94-2.06-.94 2.06-2.06.94z\"/><path d=\"M17.41 7.96l-1.37-1.37c-.4-.4-.92-.59-1.43-.59-.52 0-1.04.2-1.43.59L10.3 9.45l-7.72 7.72c-.78.78-.78 2.05 0 2.83L4 21.41c.39.39.9.59 1.41.59.51 0 1.02-.2 1.41-.59l7.78-7.78 2.81-2.81c.8-.78.8-2.07 0-2.86zM5.41 20L4 18.59l7.72-7.72 1.47 1.35L5.41 20z\"/>\n",
              "  </svg>\n",
              "      </button>\n",
              "      \n",
              "  <style>\n",
              "    .colab-df-container {\n",
              "      display:flex;\n",
              "      flex-wrap:wrap;\n",
              "      gap: 12px;\n",
              "    }\n",
              "\n",
              "    .colab-df-convert {\n",
              "      background-color: #E8F0FE;\n",
              "      border: none;\n",
              "      border-radius: 50%;\n",
              "      cursor: pointer;\n",
              "      display: none;\n",
              "      fill: #1967D2;\n",
              "      height: 32px;\n",
              "      padding: 0 0 0 0;\n",
              "      width: 32px;\n",
              "    }\n",
              "\n",
              "    .colab-df-convert:hover {\n",
              "      background-color: #E2EBFA;\n",
              "      box-shadow: 0px 1px 2px rgba(60, 64, 67, 0.3), 0px 1px 3px 1px rgba(60, 64, 67, 0.15);\n",
              "      fill: #174EA6;\n",
              "    }\n",
              "\n",
              "    [theme=dark] .colab-df-convert {\n",
              "      background-color: #3B4455;\n",
              "      fill: #D2E3FC;\n",
              "    }\n",
              "\n",
              "    [theme=dark] .colab-df-convert:hover {\n",
              "      background-color: #434B5C;\n",
              "      box-shadow: 0px 1px 3px 1px rgba(0, 0, 0, 0.15);\n",
              "      filter: drop-shadow(0px 1px 2px rgba(0, 0, 0, 0.3));\n",
              "      fill: #FFFFFF;\n",
              "    }\n",
              "  </style>\n",
              "\n",
              "      <script>\n",
              "        const buttonEl =\n",
              "          document.querySelector('#df-833248c4-ea95-4705-a665-a98e771f6d10 button.colab-df-convert');\n",
              "        buttonEl.style.display =\n",
              "          google.colab.kernel.accessAllowed ? 'block' : 'none';\n",
              "\n",
              "        async function convertToInteractive(key) {\n",
              "          const element = document.querySelector('#df-833248c4-ea95-4705-a665-a98e771f6d10');\n",
              "          const dataTable =\n",
              "            await google.colab.kernel.invokeFunction('convertToInteractive',\n",
              "                                                     [key], {});\n",
              "          if (!dataTable) return;\n",
              "\n",
              "          const docLinkHtml = 'Like what you see? Visit the ' +\n",
              "            '<a target=\"_blank\" href=https://colab.research.google.com/notebooks/data_table.ipynb>data table notebook</a>'\n",
              "            + ' to learn more about interactive tables.';\n",
              "          element.innerHTML = '';\n",
              "          dataTable['output_type'] = 'display_data';\n",
              "          await google.colab.output.renderOutput(dataTable, element);\n",
              "          const docLink = document.createElement('div');\n",
              "          docLink.innerHTML = docLinkHtml;\n",
              "          element.appendChild(docLink);\n",
              "        }\n",
              "      </script>\n",
              "    </div>\n",
              "  </div>\n",
              "  "
            ]
          },
          "metadata": {},
          "execution_count": 13
        }
      ]
    },
    {
      "cell_type": "code",
      "source": [
        "print('Shape: ', customer_id.shape)\n",
        "print()\n",
        "print('null value: ')\n",
        "print(customer_id.isna().sum())\n",
        "print()\n",
        "print('data types: ')\n",
        "print(customer_id.dtypes)"
      ],
      "metadata": {
        "colab": {
          "base_uri": "https://localhost:8080/"
        },
        "id": "j3R-6piBsg_K",
        "outputId": "805878fe-e6bc-4800-fc9f-65bf80d8b175"
      },
      "execution_count": 14,
      "outputs": [
        {
          "output_type": "stream",
          "name": "stdout",
          "text": [
            "Shape:  (49171, 4)\n",
            "\n",
            "null value: \n",
            "Customer ID           0\n",
            "Gender                0\n",
            "Age                   0\n",
            "Income (USD/Month)    0\n",
            "dtype: int64\n",
            "\n",
            "data types: \n",
            "Customer ID            int64\n",
            "Gender                object\n",
            "Age                    int64\n",
            "Income (USD/Month)     int64\n",
            "dtype: object\n"
          ]
        }
      ]
    },
    {
      "cell_type": "code",
      "source": [
        "transaction_id.head()"
      ],
      "metadata": {
        "colab": {
          "base_uri": "https://localhost:8080/",
          "height": 206
        },
        "id": "bIfEXnYVEjBy",
        "outputId": "dc8ecef2-a8f5-4d42-b1de-0950e06fd37c"
      },
      "execution_count": 15,
      "outputs": [
        {
          "output_type": "execute_result",
          "data": {
            "text/plain": [
              "   Transaction ID  Customer ID Payment_Mode\n",
              "0        10000011        29290         Card\n",
              "1        10000012        27703         Card\n",
              "2        10000013        28712         Cash\n",
              "3        10000014        28020         Cash\n",
              "4        10000015        27182         Card"
            ],
            "text/html": [
              "\n",
              "  <div id=\"df-1f8b3aa2-e025-4298-9b46-3839c56b9d78\">\n",
              "    <div class=\"colab-df-container\">\n",
              "      <div>\n",
              "<style scoped>\n",
              "    .dataframe tbody tr th:only-of-type {\n",
              "        vertical-align: middle;\n",
              "    }\n",
              "\n",
              "    .dataframe tbody tr th {\n",
              "        vertical-align: top;\n",
              "    }\n",
              "\n",
              "    .dataframe thead th {\n",
              "        text-align: right;\n",
              "    }\n",
              "</style>\n",
              "<table border=\"1\" class=\"dataframe\">\n",
              "  <thead>\n",
              "    <tr style=\"text-align: right;\">\n",
              "      <th></th>\n",
              "      <th>Transaction ID</th>\n",
              "      <th>Customer ID</th>\n",
              "      <th>Payment_Mode</th>\n",
              "    </tr>\n",
              "  </thead>\n",
              "  <tbody>\n",
              "    <tr>\n",
              "      <th>0</th>\n",
              "      <td>10000011</td>\n",
              "      <td>29290</td>\n",
              "      <td>Card</td>\n",
              "    </tr>\n",
              "    <tr>\n",
              "      <th>1</th>\n",
              "      <td>10000012</td>\n",
              "      <td>27703</td>\n",
              "      <td>Card</td>\n",
              "    </tr>\n",
              "    <tr>\n",
              "      <th>2</th>\n",
              "      <td>10000013</td>\n",
              "      <td>28712</td>\n",
              "      <td>Cash</td>\n",
              "    </tr>\n",
              "    <tr>\n",
              "      <th>3</th>\n",
              "      <td>10000014</td>\n",
              "      <td>28020</td>\n",
              "      <td>Cash</td>\n",
              "    </tr>\n",
              "    <tr>\n",
              "      <th>4</th>\n",
              "      <td>10000015</td>\n",
              "      <td>27182</td>\n",
              "      <td>Card</td>\n",
              "    </tr>\n",
              "  </tbody>\n",
              "</table>\n",
              "</div>\n",
              "      <button class=\"colab-df-convert\" onclick=\"convertToInteractive('df-1f8b3aa2-e025-4298-9b46-3839c56b9d78')\"\n",
              "              title=\"Convert this dataframe to an interactive table.\"\n",
              "              style=\"display:none;\">\n",
              "        \n",
              "  <svg xmlns=\"http://www.w3.org/2000/svg\" height=\"24px\"viewBox=\"0 0 24 24\"\n",
              "       width=\"24px\">\n",
              "    <path d=\"M0 0h24v24H0V0z\" fill=\"none\"/>\n",
              "    <path d=\"M18.56 5.44l.94 2.06.94-2.06 2.06-.94-2.06-.94-.94-2.06-.94 2.06-2.06.94zm-11 1L8.5 8.5l.94-2.06 2.06-.94-2.06-.94L8.5 2.5l-.94 2.06-2.06.94zm10 10l.94 2.06.94-2.06 2.06-.94-2.06-.94-.94-2.06-.94 2.06-2.06.94z\"/><path d=\"M17.41 7.96l-1.37-1.37c-.4-.4-.92-.59-1.43-.59-.52 0-1.04.2-1.43.59L10.3 9.45l-7.72 7.72c-.78.78-.78 2.05 0 2.83L4 21.41c.39.39.9.59 1.41.59.51 0 1.02-.2 1.41-.59l7.78-7.78 2.81-2.81c.8-.78.8-2.07 0-2.86zM5.41 20L4 18.59l7.72-7.72 1.47 1.35L5.41 20z\"/>\n",
              "  </svg>\n",
              "      </button>\n",
              "      \n",
              "  <style>\n",
              "    .colab-df-container {\n",
              "      display:flex;\n",
              "      flex-wrap:wrap;\n",
              "      gap: 12px;\n",
              "    }\n",
              "\n",
              "    .colab-df-convert {\n",
              "      background-color: #E8F0FE;\n",
              "      border: none;\n",
              "      border-radius: 50%;\n",
              "      cursor: pointer;\n",
              "      display: none;\n",
              "      fill: #1967D2;\n",
              "      height: 32px;\n",
              "      padding: 0 0 0 0;\n",
              "      width: 32px;\n",
              "    }\n",
              "\n",
              "    .colab-df-convert:hover {\n",
              "      background-color: #E2EBFA;\n",
              "      box-shadow: 0px 1px 2px rgba(60, 64, 67, 0.3), 0px 1px 3px 1px rgba(60, 64, 67, 0.15);\n",
              "      fill: #174EA6;\n",
              "    }\n",
              "\n",
              "    [theme=dark] .colab-df-convert {\n",
              "      background-color: #3B4455;\n",
              "      fill: #D2E3FC;\n",
              "    }\n",
              "\n",
              "    [theme=dark] .colab-df-convert:hover {\n",
              "      background-color: #434B5C;\n",
              "      box-shadow: 0px 1px 3px 1px rgba(0, 0, 0, 0.15);\n",
              "      filter: drop-shadow(0px 1px 2px rgba(0, 0, 0, 0.3));\n",
              "      fill: #FFFFFF;\n",
              "    }\n",
              "  </style>\n",
              "\n",
              "      <script>\n",
              "        const buttonEl =\n",
              "          document.querySelector('#df-1f8b3aa2-e025-4298-9b46-3839c56b9d78 button.colab-df-convert');\n",
              "        buttonEl.style.display =\n",
              "          google.colab.kernel.accessAllowed ? 'block' : 'none';\n",
              "\n",
              "        async function convertToInteractive(key) {\n",
              "          const element = document.querySelector('#df-1f8b3aa2-e025-4298-9b46-3839c56b9d78');\n",
              "          const dataTable =\n",
              "            await google.colab.kernel.invokeFunction('convertToInteractive',\n",
              "                                                     [key], {});\n",
              "          if (!dataTable) return;\n",
              "\n",
              "          const docLinkHtml = 'Like what you see? Visit the ' +\n",
              "            '<a target=\"_blank\" href=https://colab.research.google.com/notebooks/data_table.ipynb>data table notebook</a>'\n",
              "            + ' to learn more about interactive tables.';\n",
              "          element.innerHTML = '';\n",
              "          dataTable['output_type'] = 'display_data';\n",
              "          await google.colab.output.renderOutput(dataTable, element);\n",
              "          const docLink = document.createElement('div');\n",
              "          docLink.innerHTML = docLinkHtml;\n",
              "          element.appendChild(docLink);\n",
              "        }\n",
              "      </script>\n",
              "    </div>\n",
              "  </div>\n",
              "  "
            ]
          },
          "metadata": {},
          "execution_count": 15
        }
      ]
    },
    {
      "cell_type": "code",
      "source": [
        "print('Shape: ', transaction_id.shape)\n",
        "print()\n",
        "print('null value: ')\n",
        "print(transaction_id.isna().sum())\n",
        "print()\n",
        "print('data types: ')\n",
        "print(transaction_id.dtypes)"
      ],
      "metadata": {
        "colab": {
          "base_uri": "https://localhost:8080/"
        },
        "id": "fJIe48aJElop",
        "outputId": "96316078-61a4-4d6d-f484-62efcfe89070"
      },
      "execution_count": 16,
      "outputs": [
        {
          "output_type": "stream",
          "name": "stdout",
          "text": [
            "Shape:  (440098, 3)\n",
            "\n",
            "null value: \n",
            "Transaction ID    0\n",
            "Customer ID       0\n",
            "Payment_Mode      0\n",
            "dtype: int64\n",
            "\n",
            "data types: \n",
            "Transaction ID     int64\n",
            "Customer ID        int64\n",
            "Payment_Mode      object\n",
            "dtype: object\n"
          ]
        }
      ]
    },
    {
      "cell_type": "code",
      "source": [
        "def change_names(table):\n",
        "    for column in table.columns:\n",
        "        if ' ' in column:\n",
        "            table = table.rename(columns={column:column.replace(' ','_')})\n",
        "    return table"
      ],
      "metadata": {
        "id": "INKW6YQE-U15"
      },
      "execution_count": 17,
      "outputs": []
    },
    {
      "cell_type": "code",
      "source": [
        "cab_data = change_names(cab_data)\n",
        "transaction_id = change_names(transaction_id)\n",
        "city = change_names(city)\n",
        "customer_id = change_names(customer_id)"
      ],
      "metadata": {
        "id": "x75chHST-jnT"
      },
      "execution_count": 18,
      "outputs": []
    },
    {
      "cell_type": "code",
      "source": [
        "holidays = pd.read_csv('US_Holiday_Dates.csv')\n",
        "holidays.head(2)"
      ],
      "metadata": {
        "colab": {
          "base_uri": "https://localhost:8080/",
          "height": 112
        },
        "id": "VPRRC3wPEY1z",
        "outputId": "1c801f15-7c21-4579-cd22-0774ef7cf188"
      },
      "execution_count": 19,
      "outputs": [
        {
          "output_type": "execute_result",
          "data": {
            "text/plain": [
              "         Date      Holiday WeekDay  Month  Day  Year\n",
              "0  2004-07-04  4th of July  Sunday      7    4  2004\n",
              "1  2005-07-04  4th of July  Monday      7    4  2005"
            ],
            "text/html": [
              "\n",
              "  <div id=\"df-e33ac9ed-41e0-441c-a68c-786ab287daa2\">\n",
              "    <div class=\"colab-df-container\">\n",
              "      <div>\n",
              "<style scoped>\n",
              "    .dataframe tbody tr th:only-of-type {\n",
              "        vertical-align: middle;\n",
              "    }\n",
              "\n",
              "    .dataframe tbody tr th {\n",
              "        vertical-align: top;\n",
              "    }\n",
              "\n",
              "    .dataframe thead th {\n",
              "        text-align: right;\n",
              "    }\n",
              "</style>\n",
              "<table border=\"1\" class=\"dataframe\">\n",
              "  <thead>\n",
              "    <tr style=\"text-align: right;\">\n",
              "      <th></th>\n",
              "      <th>Date</th>\n",
              "      <th>Holiday</th>\n",
              "      <th>WeekDay</th>\n",
              "      <th>Month</th>\n",
              "      <th>Day</th>\n",
              "      <th>Year</th>\n",
              "    </tr>\n",
              "  </thead>\n",
              "  <tbody>\n",
              "    <tr>\n",
              "      <th>0</th>\n",
              "      <td>2004-07-04</td>\n",
              "      <td>4th of July</td>\n",
              "      <td>Sunday</td>\n",
              "      <td>7</td>\n",
              "      <td>4</td>\n",
              "      <td>2004</td>\n",
              "    </tr>\n",
              "    <tr>\n",
              "      <th>1</th>\n",
              "      <td>2005-07-04</td>\n",
              "      <td>4th of July</td>\n",
              "      <td>Monday</td>\n",
              "      <td>7</td>\n",
              "      <td>4</td>\n",
              "      <td>2005</td>\n",
              "    </tr>\n",
              "  </tbody>\n",
              "</table>\n",
              "</div>\n",
              "      <button class=\"colab-df-convert\" onclick=\"convertToInteractive('df-e33ac9ed-41e0-441c-a68c-786ab287daa2')\"\n",
              "              title=\"Convert this dataframe to an interactive table.\"\n",
              "              style=\"display:none;\">\n",
              "        \n",
              "  <svg xmlns=\"http://www.w3.org/2000/svg\" height=\"24px\"viewBox=\"0 0 24 24\"\n",
              "       width=\"24px\">\n",
              "    <path d=\"M0 0h24v24H0V0z\" fill=\"none\"/>\n",
              "    <path d=\"M18.56 5.44l.94 2.06.94-2.06 2.06-.94-2.06-.94-.94-2.06-.94 2.06-2.06.94zm-11 1L8.5 8.5l.94-2.06 2.06-.94-2.06-.94L8.5 2.5l-.94 2.06-2.06.94zm10 10l.94 2.06.94-2.06 2.06-.94-2.06-.94-.94-2.06-.94 2.06-2.06.94z\"/><path d=\"M17.41 7.96l-1.37-1.37c-.4-.4-.92-.59-1.43-.59-.52 0-1.04.2-1.43.59L10.3 9.45l-7.72 7.72c-.78.78-.78 2.05 0 2.83L4 21.41c.39.39.9.59 1.41.59.51 0 1.02-.2 1.41-.59l7.78-7.78 2.81-2.81c.8-.78.8-2.07 0-2.86zM5.41 20L4 18.59l7.72-7.72 1.47 1.35L5.41 20z\"/>\n",
              "  </svg>\n",
              "      </button>\n",
              "      \n",
              "  <style>\n",
              "    .colab-df-container {\n",
              "      display:flex;\n",
              "      flex-wrap:wrap;\n",
              "      gap: 12px;\n",
              "    }\n",
              "\n",
              "    .colab-df-convert {\n",
              "      background-color: #E8F0FE;\n",
              "      border: none;\n",
              "      border-radius: 50%;\n",
              "      cursor: pointer;\n",
              "      display: none;\n",
              "      fill: #1967D2;\n",
              "      height: 32px;\n",
              "      padding: 0 0 0 0;\n",
              "      width: 32px;\n",
              "    }\n",
              "\n",
              "    .colab-df-convert:hover {\n",
              "      background-color: #E2EBFA;\n",
              "      box-shadow: 0px 1px 2px rgba(60, 64, 67, 0.3), 0px 1px 3px 1px rgba(60, 64, 67, 0.15);\n",
              "      fill: #174EA6;\n",
              "    }\n",
              "\n",
              "    [theme=dark] .colab-df-convert {\n",
              "      background-color: #3B4455;\n",
              "      fill: #D2E3FC;\n",
              "    }\n",
              "\n",
              "    [theme=dark] .colab-df-convert:hover {\n",
              "      background-color: #434B5C;\n",
              "      box-shadow: 0px 1px 3px 1px rgba(0, 0, 0, 0.15);\n",
              "      filter: drop-shadow(0px 1px 2px rgba(0, 0, 0, 0.3));\n",
              "      fill: #FFFFFF;\n",
              "    }\n",
              "  </style>\n",
              "\n",
              "      <script>\n",
              "        const buttonEl =\n",
              "          document.querySelector('#df-e33ac9ed-41e0-441c-a68c-786ab287daa2 button.colab-df-convert');\n",
              "        buttonEl.style.display =\n",
              "          google.colab.kernel.accessAllowed ? 'block' : 'none';\n",
              "\n",
              "        async function convertToInteractive(key) {\n",
              "          const element = document.querySelector('#df-e33ac9ed-41e0-441c-a68c-786ab287daa2');\n",
              "          const dataTable =\n",
              "            await google.colab.kernel.invokeFunction('convertToInteractive',\n",
              "                                                     [key], {});\n",
              "          if (!dataTable) return;\n",
              "\n",
              "          const docLinkHtml = 'Like what you see? Visit the ' +\n",
              "            '<a target=\"_blank\" href=https://colab.research.google.com/notebooks/data_table.ipynb>data table notebook</a>'\n",
              "            + ' to learn more about interactive tables.';\n",
              "          element.innerHTML = '';\n",
              "          dataTable['output_type'] = 'display_data';\n",
              "          await google.colab.output.renderOutput(dataTable, element);\n",
              "          const docLink = document.createElement('div');\n",
              "          docLink.innerHTML = docLinkHtml;\n",
              "          element.appendChild(docLink);\n",
              "        }\n",
              "      </script>\n",
              "    </div>\n",
              "  </div>\n",
              "  "
            ]
          },
          "metadata": {},
          "execution_count": 19
        }
      ]
    },
    {
      "cell_type": "code",
      "source": [
        "holidays.shape"
      ],
      "metadata": {
        "colab": {
          "base_uri": "https://localhost:8080/"
        },
        "id": "dzRlve2XsP57",
        "outputId": "367dc045-9da3-4b01-ccf2-27425824212e"
      },
      "execution_count": 20,
      "outputs": [
        {
          "output_type": "execute_result",
          "data": {
            "text/plain": [
              "(342, 6)"
            ]
          },
          "metadata": {},
          "execution_count": 20
        }
      ]
    },
    {
      "cell_type": "code",
      "source": [
        "holidays.dtypes"
      ],
      "metadata": {
        "colab": {
          "base_uri": "https://localhost:8080/"
        },
        "id": "OBFSJZcTEiLX",
        "outputId": "b26902a4-bd80-4195-d961-3162c63149c3"
      },
      "execution_count": 21,
      "outputs": [
        {
          "output_type": "execute_result",
          "data": {
            "text/plain": [
              "Date       object\n",
              "Holiday    object\n",
              "WeekDay    object\n",
              "Month       int64\n",
              "Day         int64\n",
              "Year        int64\n",
              "dtype: object"
            ]
          },
          "metadata": {},
          "execution_count": 21
        }
      ]
    },
    {
      "cell_type": "code",
      "source": [
        "holidays['Date'] = pd.to_datetime(holidays['Date'])"
      ],
      "metadata": {
        "id": "kpvbsEFQExPO"
      },
      "execution_count": 22,
      "outputs": []
    },
    {
      "cell_type": "code",
      "source": [
        "holidays = holidays.where((holidays['Date'] >= '2016-01-01') & (holidays['Date'] <= '2018-12-31')).dropna()"
      ],
      "metadata": {
        "id": "q3licBuxFYn8"
      },
      "execution_count": 23,
      "outputs": []
    },
    {
      "cell_type": "markdown",
      "source": [
        "## Create MasterData"
      ],
      "metadata": {
        "id": "vUVTjUqpxC4y"
      }
    },
    {
      "cell_type": "code",
      "source": [
        "len(transaction_id['Transaction_ID'].unique()), len(cab_data['Transaction_ID'].unique())"
      ],
      "metadata": {
        "colab": {
          "base_uri": "https://localhost:8080/"
        },
        "id": "ccjK9zb3uiVj",
        "outputId": "d94d87e4-224d-497f-c5f5-2333f59d2f69"
      },
      "execution_count": 24,
      "outputs": [
        {
          "output_type": "execute_result",
          "data": {
            "text/plain": [
              "(440098, 359392)"
            ]
          },
          "metadata": {},
          "execution_count": 24
        }
      ]
    },
    {
      "cell_type": "markdown",
      "source": [
        "In table transaktion_id we can see that number unique value much bigger than in table cab_data. That is mean that we have no informations about price, city and km, company for 80 706 transaktions. These transactions won't be able to help in analysis. "
      ],
      "metadata": {
        "id": "vx4VnhNNx75w"
      }
    },
    {
      "cell_type": "code",
      "source": [
        "transactions = cab_data.merge(transaction_id, on= 'Transaction_ID').merge(customer_id, on ='Customer_ID').merge(city, on = 'City')\n",
        "transactions.head()"
      ],
      "metadata": {
        "colab": {
          "base_uri": "https://localhost:8080/",
          "height": 206
        },
        "id": "l91C690DzAI9",
        "outputId": "7398485c-40ed-44c9-b23b-91861971cba9"
      },
      "execution_count": 25,
      "outputs": [
        {
          "output_type": "execute_result",
          "data": {
            "text/plain": [
              "   Transaction_ID Date_of_Travel     Company        City  KM_Travelled  \\\n",
              "0        10000011     2016-08-01    Pink Cab  ATLANTA GA         30.45   \n",
              "1        10351127     2018-07-21  Yellow Cab  ATLANTA GA         26.19   \n",
              "2        10412921     2018-11-23  Yellow Cab  ATLANTA GA         42.55   \n",
              "3        10000012     2016-06-01    Pink Cab  ATLANTA GA         28.62   \n",
              "4        10320494     2018-04-21  Yellow Cab  ATLANTA GA         36.38   \n",
              "\n",
              "   Price_Charged  Cost_of_Trip  Month  Year  Customer_ID Payment_Mode Gender  \\\n",
              "0         370.95      313.6350      8  2016        29290         Card   Male   \n",
              "1         598.70      317.4228      7  2018        29290         Cash   Male   \n",
              "2         792.05      597.4020     11  2018        29290         Card   Male   \n",
              "3         358.52      334.8540      6  2016        27703         Card   Male   \n",
              "4         721.10      467.1192      4  2018        27703         Card   Male   \n",
              "\n",
              "   Age  Income_(USD/Month)  Population  Users  \n",
              "0   28               10813      814885  24701  \n",
              "1   28               10813      814885  24701  \n",
              "2   28               10813      814885  24701  \n",
              "3   27                9237      814885  24701  \n",
              "4   27                9237      814885  24701  "
            ],
            "text/html": [
              "\n",
              "  <div id=\"df-5d0a0991-be0f-4cbd-b4ba-17fdc80dbc7b\">\n",
              "    <div class=\"colab-df-container\">\n",
              "      <div>\n",
              "<style scoped>\n",
              "    .dataframe tbody tr th:only-of-type {\n",
              "        vertical-align: middle;\n",
              "    }\n",
              "\n",
              "    .dataframe tbody tr th {\n",
              "        vertical-align: top;\n",
              "    }\n",
              "\n",
              "    .dataframe thead th {\n",
              "        text-align: right;\n",
              "    }\n",
              "</style>\n",
              "<table border=\"1\" class=\"dataframe\">\n",
              "  <thead>\n",
              "    <tr style=\"text-align: right;\">\n",
              "      <th></th>\n",
              "      <th>Transaction_ID</th>\n",
              "      <th>Date_of_Travel</th>\n",
              "      <th>Company</th>\n",
              "      <th>City</th>\n",
              "      <th>KM_Travelled</th>\n",
              "      <th>Price_Charged</th>\n",
              "      <th>Cost_of_Trip</th>\n",
              "      <th>Month</th>\n",
              "      <th>Year</th>\n",
              "      <th>Customer_ID</th>\n",
              "      <th>Payment_Mode</th>\n",
              "      <th>Gender</th>\n",
              "      <th>Age</th>\n",
              "      <th>Income_(USD/Month)</th>\n",
              "      <th>Population</th>\n",
              "      <th>Users</th>\n",
              "    </tr>\n",
              "  </thead>\n",
              "  <tbody>\n",
              "    <tr>\n",
              "      <th>0</th>\n",
              "      <td>10000011</td>\n",
              "      <td>2016-08-01</td>\n",
              "      <td>Pink Cab</td>\n",
              "      <td>ATLANTA GA</td>\n",
              "      <td>30.45</td>\n",
              "      <td>370.95</td>\n",
              "      <td>313.6350</td>\n",
              "      <td>8</td>\n",
              "      <td>2016</td>\n",
              "      <td>29290</td>\n",
              "      <td>Card</td>\n",
              "      <td>Male</td>\n",
              "      <td>28</td>\n",
              "      <td>10813</td>\n",
              "      <td>814885</td>\n",
              "      <td>24701</td>\n",
              "    </tr>\n",
              "    <tr>\n",
              "      <th>1</th>\n",
              "      <td>10351127</td>\n",
              "      <td>2018-07-21</td>\n",
              "      <td>Yellow Cab</td>\n",
              "      <td>ATLANTA GA</td>\n",
              "      <td>26.19</td>\n",
              "      <td>598.70</td>\n",
              "      <td>317.4228</td>\n",
              "      <td>7</td>\n",
              "      <td>2018</td>\n",
              "      <td>29290</td>\n",
              "      <td>Cash</td>\n",
              "      <td>Male</td>\n",
              "      <td>28</td>\n",
              "      <td>10813</td>\n",
              "      <td>814885</td>\n",
              "      <td>24701</td>\n",
              "    </tr>\n",
              "    <tr>\n",
              "      <th>2</th>\n",
              "      <td>10412921</td>\n",
              "      <td>2018-11-23</td>\n",
              "      <td>Yellow Cab</td>\n",
              "      <td>ATLANTA GA</td>\n",
              "      <td>42.55</td>\n",
              "      <td>792.05</td>\n",
              "      <td>597.4020</td>\n",
              "      <td>11</td>\n",
              "      <td>2018</td>\n",
              "      <td>29290</td>\n",
              "      <td>Card</td>\n",
              "      <td>Male</td>\n",
              "      <td>28</td>\n",
              "      <td>10813</td>\n",
              "      <td>814885</td>\n",
              "      <td>24701</td>\n",
              "    </tr>\n",
              "    <tr>\n",
              "      <th>3</th>\n",
              "      <td>10000012</td>\n",
              "      <td>2016-06-01</td>\n",
              "      <td>Pink Cab</td>\n",
              "      <td>ATLANTA GA</td>\n",
              "      <td>28.62</td>\n",
              "      <td>358.52</td>\n",
              "      <td>334.8540</td>\n",
              "      <td>6</td>\n",
              "      <td>2016</td>\n",
              "      <td>27703</td>\n",
              "      <td>Card</td>\n",
              "      <td>Male</td>\n",
              "      <td>27</td>\n",
              "      <td>9237</td>\n",
              "      <td>814885</td>\n",
              "      <td>24701</td>\n",
              "    </tr>\n",
              "    <tr>\n",
              "      <th>4</th>\n",
              "      <td>10320494</td>\n",
              "      <td>2018-04-21</td>\n",
              "      <td>Yellow Cab</td>\n",
              "      <td>ATLANTA GA</td>\n",
              "      <td>36.38</td>\n",
              "      <td>721.10</td>\n",
              "      <td>467.1192</td>\n",
              "      <td>4</td>\n",
              "      <td>2018</td>\n",
              "      <td>27703</td>\n",
              "      <td>Card</td>\n",
              "      <td>Male</td>\n",
              "      <td>27</td>\n",
              "      <td>9237</td>\n",
              "      <td>814885</td>\n",
              "      <td>24701</td>\n",
              "    </tr>\n",
              "  </tbody>\n",
              "</table>\n",
              "</div>\n",
              "      <button class=\"colab-df-convert\" onclick=\"convertToInteractive('df-5d0a0991-be0f-4cbd-b4ba-17fdc80dbc7b')\"\n",
              "              title=\"Convert this dataframe to an interactive table.\"\n",
              "              style=\"display:none;\">\n",
              "        \n",
              "  <svg xmlns=\"http://www.w3.org/2000/svg\" height=\"24px\"viewBox=\"0 0 24 24\"\n",
              "       width=\"24px\">\n",
              "    <path d=\"M0 0h24v24H0V0z\" fill=\"none\"/>\n",
              "    <path d=\"M18.56 5.44l.94 2.06.94-2.06 2.06-.94-2.06-.94-.94-2.06-.94 2.06-2.06.94zm-11 1L8.5 8.5l.94-2.06 2.06-.94-2.06-.94L8.5 2.5l-.94 2.06-2.06.94zm10 10l.94 2.06.94-2.06 2.06-.94-2.06-.94-.94-2.06-.94 2.06-2.06.94z\"/><path d=\"M17.41 7.96l-1.37-1.37c-.4-.4-.92-.59-1.43-.59-.52 0-1.04.2-1.43.59L10.3 9.45l-7.72 7.72c-.78.78-.78 2.05 0 2.83L4 21.41c.39.39.9.59 1.41.59.51 0 1.02-.2 1.41-.59l7.78-7.78 2.81-2.81c.8-.78.8-2.07 0-2.86zM5.41 20L4 18.59l7.72-7.72 1.47 1.35L5.41 20z\"/>\n",
              "  </svg>\n",
              "      </button>\n",
              "      \n",
              "  <style>\n",
              "    .colab-df-container {\n",
              "      display:flex;\n",
              "      flex-wrap:wrap;\n",
              "      gap: 12px;\n",
              "    }\n",
              "\n",
              "    .colab-df-convert {\n",
              "      background-color: #E8F0FE;\n",
              "      border: none;\n",
              "      border-radius: 50%;\n",
              "      cursor: pointer;\n",
              "      display: none;\n",
              "      fill: #1967D2;\n",
              "      height: 32px;\n",
              "      padding: 0 0 0 0;\n",
              "      width: 32px;\n",
              "    }\n",
              "\n",
              "    .colab-df-convert:hover {\n",
              "      background-color: #E2EBFA;\n",
              "      box-shadow: 0px 1px 2px rgba(60, 64, 67, 0.3), 0px 1px 3px 1px rgba(60, 64, 67, 0.15);\n",
              "      fill: #174EA6;\n",
              "    }\n",
              "\n",
              "    [theme=dark] .colab-df-convert {\n",
              "      background-color: #3B4455;\n",
              "      fill: #D2E3FC;\n",
              "    }\n",
              "\n",
              "    [theme=dark] .colab-df-convert:hover {\n",
              "      background-color: #434B5C;\n",
              "      box-shadow: 0px 1px 3px 1px rgba(0, 0, 0, 0.15);\n",
              "      filter: drop-shadow(0px 1px 2px rgba(0, 0, 0, 0.3));\n",
              "      fill: #FFFFFF;\n",
              "    }\n",
              "  </style>\n",
              "\n",
              "      <script>\n",
              "        const buttonEl =\n",
              "          document.querySelector('#df-5d0a0991-be0f-4cbd-b4ba-17fdc80dbc7b button.colab-df-convert');\n",
              "        buttonEl.style.display =\n",
              "          google.colab.kernel.accessAllowed ? 'block' : 'none';\n",
              "\n",
              "        async function convertToInteractive(key) {\n",
              "          const element = document.querySelector('#df-5d0a0991-be0f-4cbd-b4ba-17fdc80dbc7b');\n",
              "          const dataTable =\n",
              "            await google.colab.kernel.invokeFunction('convertToInteractive',\n",
              "                                                     [key], {});\n",
              "          if (!dataTable) return;\n",
              "\n",
              "          const docLinkHtml = 'Like what you see? Visit the ' +\n",
              "            '<a target=\"_blank\" href=https://colab.research.google.com/notebooks/data_table.ipynb>data table notebook</a>'\n",
              "            + ' to learn more about interactive tables.';\n",
              "          element.innerHTML = '';\n",
              "          dataTable['output_type'] = 'display_data';\n",
              "          await google.colab.output.renderOutput(dataTable, element);\n",
              "          const docLink = document.createElement('div');\n",
              "          docLink.innerHTML = docLinkHtml;\n",
              "          element.appendChild(docLink);\n",
              "        }\n",
              "      </script>\n",
              "    </div>\n",
              "  </div>\n",
              "  "
            ]
          },
          "metadata": {},
          "execution_count": 25
        }
      ]
    },
    {
      "cell_type": "code",
      "source": [
        "len(transactions['Customer_ID'].unique()), len(transaction_id['Customer_ID'].unique())"
      ],
      "metadata": {
        "colab": {
          "base_uri": "https://localhost:8080/"
        },
        "id": "98eCQjaO_emX",
        "outputId": "5d222174-a01d-41e9-d404-2fba2b7bcbf6"
      },
      "execution_count": 26,
      "outputs": [
        {
          "output_type": "execute_result",
          "data": {
            "text/plain": [
              "(46148, 49171)"
            ]
          },
          "metadata": {},
          "execution_count": 26
        }
      ]
    },
    {
      "cell_type": "code",
      "source": [
        "unknown_customers = list(set(transaction_id['Customer_ID'].unique()) ^ set(transactions['Customer_ID'].unique())) # how many are there unknown clients"
      ],
      "metadata": {
        "id": "Tm9Bqs8k1q7-"
      },
      "execution_count": 27,
      "outputs": []
    },
    {
      "cell_type": "code",
      "source": [
        "transaction_id.where(transaction_id[\"Customer_ID\"].isin(unknown_customers)).dropna().shape #how many transactions have unknown users"
      ],
      "metadata": {
        "colab": {
          "base_uri": "https://localhost:8080/"
        },
        "id": "TGKMXg_Z3gMs",
        "outputId": "b8ae825f-5562-4311-f73a-51d5b1ebdc85"
      },
      "execution_count": 28,
      "outputs": [
        {
          "output_type": "execute_result",
          "data": {
            "text/plain": [
              "(80207, 3)"
            ]
          },
          "metadata": {},
          "execution_count": 28
        }
      ]
    },
    {
      "cell_type": "markdown",
      "source": [
        "we can see that with 80207 transactions we can't find any informations about cities, taxi companies and of course prices. Only for 499 transactions we can find informations about cities, and taxi companies. But This operation add only 0.1% data.  "
      ],
      "metadata": {
        "id": "Fa73NCTJ6HRO"
      }
    },
    {
      "cell_type": "markdown",
      "source": [
        "add holidays in masterdata"
      ],
      "metadata": {
        "id": "DFmwqaj5IXlH"
      }
    },
    {
      "cell_type": "code",
      "source": [
        "holidays_date = list(holidays.Date)\n",
        "transactions['Holiday'] = transactions.apply(lambda x: 1 if x.Date_of_Travel in holidays_date else 0, axis=1)"
      ],
      "metadata": {
        "id": "ozsl4cR0FA79"
      },
      "execution_count": 29,
      "outputs": []
    },
    {
      "cell_type": "code",
      "source": [
        "transactions['Transaction_ID'].groupby(transactions['Holiday']).nunique()"
      ],
      "metadata": {
        "colab": {
          "base_uri": "https://localhost:8080/"
        },
        "id": "OkALuGIT9xH1",
        "outputId": "409c7f5f-788b-4e9e-f60e-078f81c3e2d1"
      },
      "execution_count": 30,
      "outputs": [
        {
          "output_type": "execute_result",
          "data": {
            "text/plain": [
              "Holiday\n",
              "0    339597\n",
              "1     19795\n",
              "Name: Transaction_ID, dtype: int64"
            ]
          },
          "metadata": {},
          "execution_count": 30
        }
      ]
    },
    {
      "cell_type": "markdown",
      "source": [
        "## Analysis"
      ],
      "metadata": {
        "id": "dcq87Nm3J7A6"
      }
    },
    {
      "cell_type": "markdown",
      "source": [
        "### Yellow cab"
      ],
      "metadata": {
        "id": "yMPA-RN_WX8i"
      }
    },
    {
      "cell_type": "code",
      "source": [
        "yellow_cab = transactions.where(transactions['Company'] == 'Yellow Cab').dropna()"
      ],
      "metadata": {
        "id": "rEEOWFt3WiN3"
      },
      "execution_count": 31,
      "outputs": []
    },
    {
      "cell_type": "code",
      "source": [
        "# describe data\n",
        "int_columns = ['KM_Travelled', 'Price_Charged', 'Cost_of_Trip', 'Age', 'Income_(USD/Month)']\n",
        "yellow_cab[int_columns].describe()"
      ],
      "metadata": {
        "colab": {
          "base_uri": "https://localhost:8080/",
          "height": 300
        },
        "id": "eUXxmj699xKk",
        "outputId": "0446da18-93f6-49da-bd7c-7ce76ccf1544"
      },
      "execution_count": 32,
      "outputs": [
        {
          "output_type": "execute_result",
          "data": {
            "text/plain": [
              "        KM_Travelled  Price_Charged   Cost_of_Trip            Age  \\\n",
              "count  274681.000000  274681.000000  274681.000000  274681.000000   \n",
              "mean       22.569517     458.181990     297.922004      35.341112   \n",
              "std        12.234298     288.386166     162.548986      12.578625   \n",
              "min         1.900000      20.730000      22.800000      18.000000   \n",
              "25%        11.990000     226.680000     158.400000      25.000000   \n",
              "50%        22.440000     425.060000     295.596000      33.000000   \n",
              "75%        32.960000     633.880000     432.432000      42.000000   \n",
              "max        48.000000    2048.030000     691.200000      65.000000   \n",
              "\n",
              "       Income_(USD/Month)  \n",
              "count       274681.000000  \n",
              "mean         15045.669817  \n",
              "std           7962.727062  \n",
              "min           2000.000000  \n",
              "25%           8439.000000  \n",
              "50%          14676.000000  \n",
              "75%          21023.000000  \n",
              "max          34996.000000  "
            ],
            "text/html": [
              "\n",
              "  <div id=\"df-7ec5ce3b-0dbd-451f-ad43-83aec7a876eb\">\n",
              "    <div class=\"colab-df-container\">\n",
              "      <div>\n",
              "<style scoped>\n",
              "    .dataframe tbody tr th:only-of-type {\n",
              "        vertical-align: middle;\n",
              "    }\n",
              "\n",
              "    .dataframe tbody tr th {\n",
              "        vertical-align: top;\n",
              "    }\n",
              "\n",
              "    .dataframe thead th {\n",
              "        text-align: right;\n",
              "    }\n",
              "</style>\n",
              "<table border=\"1\" class=\"dataframe\">\n",
              "  <thead>\n",
              "    <tr style=\"text-align: right;\">\n",
              "      <th></th>\n",
              "      <th>KM_Travelled</th>\n",
              "      <th>Price_Charged</th>\n",
              "      <th>Cost_of_Trip</th>\n",
              "      <th>Age</th>\n",
              "      <th>Income_(USD/Month)</th>\n",
              "    </tr>\n",
              "  </thead>\n",
              "  <tbody>\n",
              "    <tr>\n",
              "      <th>count</th>\n",
              "      <td>274681.000000</td>\n",
              "      <td>274681.000000</td>\n",
              "      <td>274681.000000</td>\n",
              "      <td>274681.000000</td>\n",
              "      <td>274681.000000</td>\n",
              "    </tr>\n",
              "    <tr>\n",
              "      <th>mean</th>\n",
              "      <td>22.569517</td>\n",
              "      <td>458.181990</td>\n",
              "      <td>297.922004</td>\n",
              "      <td>35.341112</td>\n",
              "      <td>15045.669817</td>\n",
              "    </tr>\n",
              "    <tr>\n",
              "      <th>std</th>\n",
              "      <td>12.234298</td>\n",
              "      <td>288.386166</td>\n",
              "      <td>162.548986</td>\n",
              "      <td>12.578625</td>\n",
              "      <td>7962.727062</td>\n",
              "    </tr>\n",
              "    <tr>\n",
              "      <th>min</th>\n",
              "      <td>1.900000</td>\n",
              "      <td>20.730000</td>\n",
              "      <td>22.800000</td>\n",
              "      <td>18.000000</td>\n",
              "      <td>2000.000000</td>\n",
              "    </tr>\n",
              "    <tr>\n",
              "      <th>25%</th>\n",
              "      <td>11.990000</td>\n",
              "      <td>226.680000</td>\n",
              "      <td>158.400000</td>\n",
              "      <td>25.000000</td>\n",
              "      <td>8439.000000</td>\n",
              "    </tr>\n",
              "    <tr>\n",
              "      <th>50%</th>\n",
              "      <td>22.440000</td>\n",
              "      <td>425.060000</td>\n",
              "      <td>295.596000</td>\n",
              "      <td>33.000000</td>\n",
              "      <td>14676.000000</td>\n",
              "    </tr>\n",
              "    <tr>\n",
              "      <th>75%</th>\n",
              "      <td>32.960000</td>\n",
              "      <td>633.880000</td>\n",
              "      <td>432.432000</td>\n",
              "      <td>42.000000</td>\n",
              "      <td>21023.000000</td>\n",
              "    </tr>\n",
              "    <tr>\n",
              "      <th>max</th>\n",
              "      <td>48.000000</td>\n",
              "      <td>2048.030000</td>\n",
              "      <td>691.200000</td>\n",
              "      <td>65.000000</td>\n",
              "      <td>34996.000000</td>\n",
              "    </tr>\n",
              "  </tbody>\n",
              "</table>\n",
              "</div>\n",
              "      <button class=\"colab-df-convert\" onclick=\"convertToInteractive('df-7ec5ce3b-0dbd-451f-ad43-83aec7a876eb')\"\n",
              "              title=\"Convert this dataframe to an interactive table.\"\n",
              "              style=\"display:none;\">\n",
              "        \n",
              "  <svg xmlns=\"http://www.w3.org/2000/svg\" height=\"24px\"viewBox=\"0 0 24 24\"\n",
              "       width=\"24px\">\n",
              "    <path d=\"M0 0h24v24H0V0z\" fill=\"none\"/>\n",
              "    <path d=\"M18.56 5.44l.94 2.06.94-2.06 2.06-.94-2.06-.94-.94-2.06-.94 2.06-2.06.94zm-11 1L8.5 8.5l.94-2.06 2.06-.94-2.06-.94L8.5 2.5l-.94 2.06-2.06.94zm10 10l.94 2.06.94-2.06 2.06-.94-2.06-.94-.94-2.06-.94 2.06-2.06.94z\"/><path d=\"M17.41 7.96l-1.37-1.37c-.4-.4-.92-.59-1.43-.59-.52 0-1.04.2-1.43.59L10.3 9.45l-7.72 7.72c-.78.78-.78 2.05 0 2.83L4 21.41c.39.39.9.59 1.41.59.51 0 1.02-.2 1.41-.59l7.78-7.78 2.81-2.81c.8-.78.8-2.07 0-2.86zM5.41 20L4 18.59l7.72-7.72 1.47 1.35L5.41 20z\"/>\n",
              "  </svg>\n",
              "      </button>\n",
              "      \n",
              "  <style>\n",
              "    .colab-df-container {\n",
              "      display:flex;\n",
              "      flex-wrap:wrap;\n",
              "      gap: 12px;\n",
              "    }\n",
              "\n",
              "    .colab-df-convert {\n",
              "      background-color: #E8F0FE;\n",
              "      border: none;\n",
              "      border-radius: 50%;\n",
              "      cursor: pointer;\n",
              "      display: none;\n",
              "      fill: #1967D2;\n",
              "      height: 32px;\n",
              "      padding: 0 0 0 0;\n",
              "      width: 32px;\n",
              "    }\n",
              "\n",
              "    .colab-df-convert:hover {\n",
              "      background-color: #E2EBFA;\n",
              "      box-shadow: 0px 1px 2px rgba(60, 64, 67, 0.3), 0px 1px 3px 1px rgba(60, 64, 67, 0.15);\n",
              "      fill: #174EA6;\n",
              "    }\n",
              "\n",
              "    [theme=dark] .colab-df-convert {\n",
              "      background-color: #3B4455;\n",
              "      fill: #D2E3FC;\n",
              "    }\n",
              "\n",
              "    [theme=dark] .colab-df-convert:hover {\n",
              "      background-color: #434B5C;\n",
              "      box-shadow: 0px 1px 3px 1px rgba(0, 0, 0, 0.15);\n",
              "      filter: drop-shadow(0px 1px 2px rgba(0, 0, 0, 0.3));\n",
              "      fill: #FFFFFF;\n",
              "    }\n",
              "  </style>\n",
              "\n",
              "      <script>\n",
              "        const buttonEl =\n",
              "          document.querySelector('#df-7ec5ce3b-0dbd-451f-ad43-83aec7a876eb button.colab-df-convert');\n",
              "        buttonEl.style.display =\n",
              "          google.colab.kernel.accessAllowed ? 'block' : 'none';\n",
              "\n",
              "        async function convertToInteractive(key) {\n",
              "          const element = document.querySelector('#df-7ec5ce3b-0dbd-451f-ad43-83aec7a876eb');\n",
              "          const dataTable =\n",
              "            await google.colab.kernel.invokeFunction('convertToInteractive',\n",
              "                                                     [key], {});\n",
              "          if (!dataTable) return;\n",
              "\n",
              "          const docLinkHtml = 'Like what you see? Visit the ' +\n",
              "            '<a target=\"_blank\" href=https://colab.research.google.com/notebooks/data_table.ipynb>data table notebook</a>'\n",
              "            + ' to learn more about interactive tables.';\n",
              "          element.innerHTML = '';\n",
              "          dataTable['output_type'] = 'display_data';\n",
              "          await google.colab.output.renderOutput(dataTable, element);\n",
              "          const docLink = document.createElement('div');\n",
              "          docLink.innerHTML = docLinkHtml;\n",
              "          element.appendChild(docLink);\n",
              "        }\n",
              "      </script>\n",
              "    </div>\n",
              "  </div>\n",
              "  "
            ]
          },
          "metadata": {},
          "execution_count": 32
        }
      ]
    },
    {
      "cell_type": "markdown",
      "source": [
        "## Find outliers\n",
        "\n",
        "There are many options to find outliers. I would like to compare several methods"
      ],
      "metadata": {
        "id": "aUMMqHzRRR_S"
      }
    },
    {
      "cell_type": "code",
      "source": [
        "def box_plots(column):\n",
        "    _, bp = column.plot.box(return_type='both')\n",
        "    return _, bp"
      ],
      "metadata": {
        "id": "JYuI_kcj9xM3"
      },
      "execution_count": 33,
      "outputs": []
    },
    {
      "cell_type": "code",
      "source": [
        "_, bp_km = box_plots(yellow_cab.KM_Travelled)"
      ],
      "metadata": {
        "colab": {
          "base_uri": "https://localhost:8080/",
          "height": 269
        },
        "id": "HMetZDUt9xPD",
        "outputId": "640e0c27-8417-49c8-eaaa-76f70f8a1449"
      },
      "execution_count": 34,
      "outputs": [
        {
          "output_type": "display_data",
          "data": {
            "text/plain": [
              "<Figure size 432x288 with 1 Axes>"
            ],
            "image/png": "[encoded data removed]"
          },
          "metadata": {
            "needs_background": "light"
          }
        }
      ]
    },
    {
      "cell_type": "code",
      "source": [
        "_, bp_price = box_plots(yellow_cab.Price_Charged)"
      ],
      "metadata": {
        "colab": {
          "base_uri": "https://localhost:8080/",
          "height": 266
        },
        "id": "YP6YdfgoTBp5",
        "outputId": "1acfe472-e123-46f9-d57a-2c1e906fd01b"
      },
      "execution_count": 35,
      "outputs": [
        {
          "output_type": "display_data",
          "data": {
            "text/plain": [
              "<Figure size 432x288 with 1 Axes>"
            ],
            "image/png": "[encoded data removed]"
          },
          "metadata": {
            "needs_background": "light"
          }
        }
      ]
    },
    {
      "cell_type": "code",
      "source": [
        "outliers_price = [flier.get_ydata() for flier in bp_price[\"fliers\"]][0]\n",
        "print('Number outliers with box plot: ', yellow_cab[yellow_cab.Price_Charged.isin(outliers_price)].shape[0])"
      ],
      "metadata": {
        "colab": {
          "base_uri": "https://localhost:8080/"
        },
        "id": "XUYDO0EY9xVb",
        "outputId": "70904dff-21a5-4866-8850-897e4ac720c1"
      },
      "execution_count": 36,
      "outputs": [
        {
          "output_type": "stream",
          "name": "stdout",
          "text": [
            "Number outliers with box plot:  3240\n"
          ]
        }
      ]
    },
    {
      "cell_type": "code",
      "source": [
        "lower_bound = yellow_cab.Price_Charged.quantile(q=0.025)\n",
        "upper_bound = yellow_cab.Price_Charged.quantile(q=0.975)\n",
        "print('Number outliers with quantile: ', yellow_cab[(yellow_cab.Price_Charged < lower_bound) | (yellow_cab.Price_Charged > upper_bound)].shape[0])"
      ],
      "metadata": {
        "colab": {
          "base_uri": "https://localhost:8080/"
        },
        "id": "kASHaiqZT_6v",
        "outputId": "46f77458-7d7c-46d4-9ad9-2efc880eb4f6"
      },
      "execution_count": 37,
      "outputs": [
        {
          "output_type": "stream",
          "name": "stdout",
          "text": [
            "Number outliers with quantile:  13732\n"
          ]
        }
      ]
    },
    {
      "cell_type": "code",
      "source": [
        "def hampel(vals_orig):\n",
        "    vals = vals_orig.copy()    \n",
        "    difference = np.abs(vals.median()-vals)\n",
        "    median_abs_deviation = difference.median()\n",
        "    threshold = 3 * median_abs_deviation\n",
        "    outlier_idx = difference > threshold\n",
        "    vals[outlier_idx] = np.nan\n",
        "    return(vals)"
      ],
      "metadata": {
        "id": "cVhai96jVG5o"
      },
      "execution_count": 38,
      "outputs": []
    },
    {
      "cell_type": "code",
      "source": [
        "hempel_outliers_price = yellow_cab.shape[0] - hampel(yellow_cab.Price_Charged).dropna().count()\n",
        "print(\"Number outliers with Hampel's filter: \", hempel_outliers_price)"
      ],
      "metadata": {
        "colab": {
          "base_uri": "https://localhost:8080/"
        },
        "id": "F2Ipu_i_VJ5r",
        "outputId": "b94a3271-86ea-4818-c0da-e0d6daddbd59"
      },
      "execution_count": 39,
      "outputs": [
        {
          "output_type": "stream",
          "name": "stdout",
          "text": [
            "Number outliers with Hampel's filter:  11392\n"
          ]
        }
      ]
    },
    {
      "cell_type": "markdown",
      "source": [
        "Box plots outliers gives the best result. Let check one hypothesis - are outliers possible due to hilidays?"
      ],
      "metadata": {
        "id": "FPufl57WWEy1"
      }
    },
    {
      "cell_type": "code",
      "source": [
        "yellow_cab[yellow_cab.Price_Charged.isin(outliers_price)].groupby(yellow_cab['Holiday']).count() #doesn't matter"
      ],
      "metadata": {
        "colab": {
          "base_uri": "https://localhost:8080/",
          "height": 143
        },
        "id": "WxVsxMcjbvq7",
        "outputId": "bd3ce789-45bc-48c1-bc8b-6ae200949a0e"
      },
      "execution_count": 40,
      "outputs": [
        {
          "output_type": "execute_result",
          "data": {
            "text/plain": [
              "         Transaction_ID  Date_of_Travel  Company  City  KM_Travelled  \\\n",
              "Holiday                                                                \n",
              "0.0                3029            3029     3029  3029          3029   \n",
              "1.0                 211             211      211   211           211   \n",
              "\n",
              "         Price_Charged  Cost_of_Trip  Month  Year  Customer_ID  Payment_Mode  \\\n",
              "Holiday                                                                        \n",
              "0.0               3029          3029   3029  3029         3029          3029   \n",
              "1.0                211           211    211   211          211           211   \n",
              "\n",
              "         Gender   Age  Income_(USD/Month)  Population  Users  Holiday  \n",
              "Holiday                                                                \n",
              "0.0        3029  3029                3029        3029   3029     3029  \n",
              "1.0         211   211                 211         211    211      211  "
            ],
            "text/html": [
              "\n",
              "  <div id=\"df-92986a3a-0d7f-4fc0-9494-85c706c28a0f\">\n",
              "    <div class=\"colab-df-container\">\n",
              "      <div>\n",
              "<style scoped>\n",
              "    .dataframe tbody tr th:only-of-type {\n",
              "        vertical-align: middle;\n",
              "    }\n",
              "\n",
              "    .dataframe tbody tr th {\n",
              "        vertical-align: top;\n",
              "    }\n",
              "\n",
              "    .dataframe thead th {\n",
              "        text-align: right;\n",
              "    }\n",
              "</style>\n",
              "<table border=\"1\" class=\"dataframe\">\n",
              "  <thead>\n",
              "    <tr style=\"text-align: right;\">\n",
              "      <th></th>\n",
              "      <th>Transaction_ID</th>\n",
              "      <th>Date_of_Travel</th>\n",
              "      <th>Company</th>\n",
              "      <th>City</th>\n",
              "      <th>KM_Travelled</th>\n",
              "      <th>Price_Charged</th>\n",
              "      <th>Cost_of_Trip</th>\n",
              "      <th>Month</th>\n",
              "      <th>Year</th>\n",
              "      <th>Customer_ID</th>\n",
              "      <th>Payment_Mode</th>\n",
              "      <th>Gender</th>\n",
              "      <th>Age</th>\n",
              "      <th>Income_(USD/Month)</th>\n",
              "      <th>Population</th>\n",
              "      <th>Users</th>\n",
              "      <th>Holiday</th>\n",
              "    </tr>\n",
              "    <tr>\n",
              "      <th>Holiday</th>\n",
              "      <th></th>\n",
              "      <th></th>\n",
              "      <th></th>\n",
              "      <th></th>\n",
              "      <th></th>\n",
              "      <th></th>\n",
              "      <th></th>\n",
              "      <th></th>\n",
              "      <th></th>\n",
              "      <th></th>\n",
              "      <th></th>\n",
              "      <th></th>\n",
              "      <th></th>\n",
              "      <th></th>\n",
              "      <th></th>\n",
              "      <th></th>\n",
              "      <th></th>\n",
              "    </tr>\n",
              "  </thead>\n",
              "  <tbody>\n",
              "    <tr>\n",
              "      <th>0.0</th>\n",
              "      <td>3029</td>\n",
              "      <td>3029</td>\n",
              "      <td>3029</td>\n",
              "      <td>3029</td>\n",
              "      <td>3029</td>\n",
              "      <td>3029</td>\n",
              "      <td>3029</td>\n",
              "      <td>3029</td>\n",
              "      <td>3029</td>\n",
              "      <td>3029</td>\n",
              "      <td>3029</td>\n",
              "      <td>3029</td>\n",
              "      <td>3029</td>\n",
              "      <td>3029</td>\n",
              "      <td>3029</td>\n",
              "      <td>3029</td>\n",
              "      <td>3029</td>\n",
              "    </tr>\n",
              "    <tr>\n",
              "      <th>1.0</th>\n",
              "      <td>211</td>\n",
              "      <td>211</td>\n",
              "      <td>211</td>\n",
              "      <td>211</td>\n",
              "      <td>211</td>\n",
              "      <td>211</td>\n",
              "      <td>211</td>\n",
              "      <td>211</td>\n",
              "      <td>211</td>\n",
              "      <td>211</td>\n",
              "      <td>211</td>\n",
              "      <td>211</td>\n",
              "      <td>211</td>\n",
              "      <td>211</td>\n",
              "      <td>211</td>\n",
              "      <td>211</td>\n",
              "      <td>211</td>\n",
              "    </tr>\n",
              "  </tbody>\n",
              "</table>\n",
              "</div>\n",
              "      <button class=\"colab-df-convert\" onclick=\"convertToInteractive('df-92986a3a-0d7f-4fc0-9494-85c706c28a0f')\"\n",
              "              title=\"Convert this dataframe to an interactive table.\"\n",
              "              style=\"display:none;\">\n",
              "        \n",
              "  <svg xmlns=\"http://www.w3.org/2000/svg\" height=\"24px\"viewBox=\"0 0 24 24\"\n",
              "       width=\"24px\">\n",
              "    <path d=\"M0 0h24v24H0V0z\" fill=\"none\"/>\n",
              "    <path d=\"M18.56 5.44l.94 2.06.94-2.06 2.06-.94-2.06-.94-.94-2.06-.94 2.06-2.06.94zm-11 1L8.5 8.5l.94-2.06 2.06-.94-2.06-.94L8.5 2.5l-.94 2.06-2.06.94zm10 10l.94 2.06.94-2.06 2.06-.94-2.06-.94-.94-2.06-.94 2.06-2.06.94z\"/><path d=\"M17.41 7.96l-1.37-1.37c-.4-.4-.92-.59-1.43-.59-.52 0-1.04.2-1.43.59L10.3 9.45l-7.72 7.72c-.78.78-.78 2.05 0 2.83L4 21.41c.39.39.9.59 1.41.59.51 0 1.02-.2 1.41-.59l7.78-7.78 2.81-2.81c.8-.78.8-2.07 0-2.86zM5.41 20L4 18.59l7.72-7.72 1.47 1.35L5.41 20z\"/>\n",
              "  </svg>\n",
              "      </button>\n",
              "      \n",
              "  <style>\n",
              "    .colab-df-container {\n",
              "      display:flex;\n",
              "      flex-wrap:wrap;\n",
              "      gap: 12px;\n",
              "    }\n",
              "\n",
              "    .colab-df-convert {\n",
              "      background-color: #E8F0FE;\n",
              "      border: none;\n",
              "      border-radius: 50%;\n",
              "      cursor: pointer;\n",
              "      display: none;\n",
              "      fill: #1967D2;\n",
              "      height: 32px;\n",
              "      padding: 0 0 0 0;\n",
              "      width: 32px;\n",
              "    }\n",
              "\n",
              "    .colab-df-convert:hover {\n",
              "      background-color: #E2EBFA;\n",
              "      box-shadow: 0px 1px 2px rgba(60, 64, 67, 0.3), 0px 1px 3px 1px rgba(60, 64, 67, 0.15);\n",
              "      fill: #174EA6;\n",
              "    }\n",
              "\n",
              "    [theme=dark] .colab-df-convert {\n",
              "      background-color: #3B4455;\n",
              "      fill: #D2E3FC;\n",
              "    }\n",
              "\n",
              "    [theme=dark] .colab-df-convert:hover {\n",
              "      background-color: #434B5C;\n",
              "      box-shadow: 0px 1px 3px 1px rgba(0, 0, 0, 0.15);\n",
              "      filter: drop-shadow(0px 1px 2px rgba(0, 0, 0, 0.3));\n",
              "      fill: #FFFFFF;\n",
              "    }\n",
              "  </style>\n",
              "\n",
              "      <script>\n",
              "        const buttonEl =\n",
              "          document.querySelector('#df-92986a3a-0d7f-4fc0-9494-85c706c28a0f button.colab-df-convert');\n",
              "        buttonEl.style.display =\n",
              "          google.colab.kernel.accessAllowed ? 'block' : 'none';\n",
              "\n",
              "        async function convertToInteractive(key) {\n",
              "          const element = document.querySelector('#df-92986a3a-0d7f-4fc0-9494-85c706c28a0f');\n",
              "          const dataTable =\n",
              "            await google.colab.kernel.invokeFunction('convertToInteractive',\n",
              "                                                     [key], {});\n",
              "          if (!dataTable) return;\n",
              "\n",
              "          const docLinkHtml = 'Like what you see? Visit the ' +\n",
              "            '<a target=\"_blank\" href=https://colab.research.google.com/notebooks/data_table.ipynb>data table notebook</a>'\n",
              "            + ' to learn more about interactive tables.';\n",
              "          element.innerHTML = '';\n",
              "          dataTable['output_type'] = 'display_data';\n",
              "          await google.colab.output.renderOutput(dataTable, element);\n",
              "          const docLink = document.createElement('div');\n",
              "          docLink.innerHTML = docLinkHtml;\n",
              "          element.appendChild(docLink);\n",
              "        }\n",
              "      </script>\n",
              "    </div>\n",
              "  </div>\n",
              "  "
            ]
          },
          "metadata": {},
          "execution_count": 40
        }
      ]
    },
    {
      "cell_type": "code",
      "source": [
        "_, bp_cost = box_plots(yellow_cab.Cost_of_Trip) #no outliers"
      ],
      "metadata": {
        "colab": {
          "base_uri": "https://localhost:8080/",
          "height": 266
        },
        "id": "eDgk2t58XX8s",
        "outputId": "d7315763-961c-488c-9f92-086e641e5644"
      },
      "execution_count": 41,
      "outputs": [
        {
          "output_type": "display_data",
          "data": {
            "text/plain": [
              "<Figure size 432x288 with 1 Axes>"
            ],
            "image/png": "[encoded data removed]"
          },
          "metadata": {
            "needs_background": "light"
          }
        }
      ]
    },
    {
      "cell_type": "markdown",
      "source": [
        "### Pink Cab"
      ],
      "metadata": {
        "id": "Kztqqp0jXxzh"
      }
    },
    {
      "cell_type": "code",
      "source": [
        "pink_cab = transactions.where(transactions['Company'] == 'Pink Cab').dropna()"
      ],
      "metadata": {
        "id": "UNqMbHthYLcJ"
      },
      "execution_count": 42,
      "outputs": []
    },
    {
      "cell_type": "code",
      "source": [
        "_, bp_km = box_plots(pink_cab.KM_Travelled)"
      ],
      "metadata": {
        "colab": {
          "base_uri": "https://localhost:8080/",
          "height": 269
        },
        "id": "JJNG91BmV0nA",
        "outputId": "5a90795c-e518-49a3-b388-fdc0f4a71115"
      },
      "execution_count": 43,
      "outputs": [
        {
          "output_type": "display_data",
          "data": {
            "text/plain": [
              "<Figure size 432x288 with 1 Axes>"
            ],
            "image/png": "[encoded data removed]"
          },
          "metadata": {
            "needs_background": "light"
          }
        }
      ]
    },
    {
      "cell_type": "code",
      "source": [
        "_, bp_price = box_plots(pink_cab.Price_Charged)\n"
      ],
      "metadata": {
        "colab": {
          "base_uri": "https://localhost:8080/",
          "height": 266
        },
        "id": "lYbsYuZfV0ph",
        "outputId": "293f2bee-af90-4c29-b172-de0330bd5cc5"
      },
      "execution_count": 44,
      "outputs": [
        {
          "output_type": "display_data",
          "data": {
            "text/plain": [
              "<Figure size 432x288 with 1 Axes>"
            ],
            "image/png": "[encoded data removed]"
          },
          "metadata": {
            "needs_background": "light"
          }
        }
      ]
    },
    {
      "cell_type": "code",
      "source": [
        "outliers_price = [flier.get_ydata() for flier in bp_price[\"fliers\"]][0]\n",
        "print('Number outliers with box plot: ', pink_cab[pink_cab.Price_Charged.isin(outliers_price)].shape[0])"
      ],
      "metadata": {
        "colab": {
          "base_uri": "https://localhost:8080/"
        },
        "id": "LDCgAdoGZepH",
        "outputId": "34e344e8-8e5d-4167-8a71-438bb5c958a4"
      },
      "execution_count": 45,
      "outputs": [
        {
          "output_type": "stream",
          "name": "stdout",
          "text": [
            "Number outliers with box plot:  237\n"
          ]
        }
      ]
    },
    {
      "cell_type": "code",
      "source": [
        "pink_cab[pink_cab.Price_Charged.isin(outliers_price)].groupby(pink_cab['Holiday']).count() #doesn't matter"
      ],
      "metadata": {
        "colab": {
          "base_uri": "https://localhost:8080/",
          "height": 143
        },
        "id": "A41jobNpcKUs",
        "outputId": "8e2cf9c5-5aee-42de-97ff-4561e01beb19"
      },
      "execution_count": 46,
      "outputs": [
        {
          "output_type": "execute_result",
          "data": {
            "text/plain": [
              "         Transaction_ID  Date_of_Travel  Company  City  KM_Travelled  \\\n",
              "Holiday                                                                \n",
              "0.0                 215             215      215   215           215   \n",
              "1.0                  22              22       22    22            22   \n",
              "\n",
              "         Price_Charged  Cost_of_Trip  Month  Year  Customer_ID  Payment_Mode  \\\n",
              "Holiday                                                                        \n",
              "0.0                215           215    215   215          215           215   \n",
              "1.0                 22            22     22    22           22            22   \n",
              "\n",
              "         Gender  Age  Income_(USD/Month)  Population  Users  Holiday  \n",
              "Holiday                                                               \n",
              "0.0         215  215                 215         215    215      215  \n",
              "1.0          22   22                  22          22     22       22  "
            ],
            "text/html": [
              "\n",
              "  <div id=\"df-b4c098c7-8b60-42d2-8bd8-21c4e7e4e6cc\">\n",
              "    <div class=\"colab-df-container\">\n",
              "      <div>\n",
              "<style scoped>\n",
              "    .dataframe tbody tr th:only-of-type {\n",
              "        vertical-align: middle;\n",
              "    }\n",
              "\n",
              "    .dataframe tbody tr th {\n",
              "        vertical-align: top;\n",
              "    }\n",
              "\n",
              "    .dataframe thead th {\n",
              "        text-align: right;\n",
              "    }\n",
              "</style>\n",
              "<table border=\"1\" class=\"dataframe\">\n",
              "  <thead>\n",
              "    <tr style=\"text-align: right;\">\n",
              "      <th></th>\n",
              "      <th>Transaction_ID</th>\n",
              "      <th>Date_of_Travel</th>\n",
              "      <th>Company</th>\n",
              "      <th>City</th>\n",
              "      <th>KM_Travelled</th>\n",
              "      <th>Price_Charged</th>\n",
              "      <th>Cost_of_Trip</th>\n",
              "      <th>Month</th>\n",
              "      <th>Year</th>\n",
              "      <th>Customer_ID</th>\n",
              "      <th>Payment_Mode</th>\n",
              "      <th>Gender</th>\n",
              "      <th>Age</th>\n",
              "      <th>Income_(USD/Month)</th>\n",
              "      <th>Population</th>\n",
              "      <th>Users</th>\n",
              "      <th>Holiday</th>\n",
              "    </tr>\n",
              "    <tr>\n",
              "      <th>Holiday</th>\n",
              "      <th></th>\n",
              "      <th></th>\n",
              "      <th></th>\n",
              "      <th></th>\n",
              "      <th></th>\n",
              "      <th></th>\n",
              "      <th></th>\n",
              "      <th></th>\n",
              "      <th></th>\n",
              "      <th></th>\n",
              "      <th></th>\n",
              "      <th></th>\n",
              "      <th></th>\n",
              "      <th></th>\n",
              "      <th></th>\n",
              "      <th></th>\n",
              "      <th></th>\n",
              "    </tr>\n",
              "  </thead>\n",
              "  <tbody>\n",
              "    <tr>\n",
              "      <th>0.0</th>\n",
              "      <td>215</td>\n",
              "      <td>215</td>\n",
              "      <td>215</td>\n",
              "      <td>215</td>\n",
              "      <td>215</td>\n",
              "      <td>215</td>\n",
              "      <td>215</td>\n",
              "      <td>215</td>\n",
              "      <td>215</td>\n",
              "      <td>215</td>\n",
              "      <td>215</td>\n",
              "      <td>215</td>\n",
              "      <td>215</td>\n",
              "      <td>215</td>\n",
              "      <td>215</td>\n",
              "      <td>215</td>\n",
              "      <td>215</td>\n",
              "    </tr>\n",
              "    <tr>\n",
              "      <th>1.0</th>\n",
              "      <td>22</td>\n",
              "      <td>22</td>\n",
              "      <td>22</td>\n",
              "      <td>22</td>\n",
              "      <td>22</td>\n",
              "      <td>22</td>\n",
              "      <td>22</td>\n",
              "      <td>22</td>\n",
              "      <td>22</td>\n",
              "      <td>22</td>\n",
              "      <td>22</td>\n",
              "      <td>22</td>\n",
              "      <td>22</td>\n",
              "      <td>22</td>\n",
              "      <td>22</td>\n",
              "      <td>22</td>\n",
              "      <td>22</td>\n",
              "    </tr>\n",
              "  </tbody>\n",
              "</table>\n",
              "</div>\n",
              "      <button class=\"colab-df-convert\" onclick=\"convertToInteractive('df-b4c098c7-8b60-42d2-8bd8-21c4e7e4e6cc')\"\n",
              "              title=\"Convert this dataframe to an interactive table.\"\n",
              "              style=\"display:none;\">\n",
              "        \n",
              "  <svg xmlns=\"http://www.w3.org/2000/svg\" height=\"24px\"viewBox=\"0 0 24 24\"\n",
              "       width=\"24px\">\n",
              "    <path d=\"M0 0h24v24H0V0z\" fill=\"none\"/>\n",
              "    <path d=\"M18.56 5.44l.94 2.06.94-2.06 2.06-.94-2.06-.94-.94-2.06-.94 2.06-2.06.94zm-11 1L8.5 8.5l.94-2.06 2.06-.94-2.06-.94L8.5 2.5l-.94 2.06-2.06.94zm10 10l.94 2.06.94-2.06 2.06-.94-2.06-.94-.94-2.06-.94 2.06-2.06.94z\"/><path d=\"M17.41 7.96l-1.37-1.37c-.4-.4-.92-.59-1.43-.59-.52 0-1.04.2-1.43.59L10.3 9.45l-7.72 7.72c-.78.78-.78 2.05 0 2.83L4 21.41c.39.39.9.59 1.41.59.51 0 1.02-.2 1.41-.59l7.78-7.78 2.81-2.81c.8-.78.8-2.07 0-2.86zM5.41 20L4 18.59l7.72-7.72 1.47 1.35L5.41 20z\"/>\n",
              "  </svg>\n",
              "      </button>\n",
              "      \n",
              "  <style>\n",
              "    .colab-df-container {\n",
              "      display:flex;\n",
              "      flex-wrap:wrap;\n",
              "      gap: 12px;\n",
              "    }\n",
              "\n",
              "    .colab-df-convert {\n",
              "      background-color: #E8F0FE;\n",
              "      border: none;\n",
              "      border-radius: 50%;\n",
              "      cursor: pointer;\n",
              "      display: none;\n",
              "      fill: #1967D2;\n",
              "      height: 32px;\n",
              "      padding: 0 0 0 0;\n",
              "      width: 32px;\n",
              "    }\n",
              "\n",
              "    .colab-df-convert:hover {\n",
              "      background-color: #E2EBFA;\n",
              "      box-shadow: 0px 1px 2px rgba(60, 64, 67, 0.3), 0px 1px 3px 1px rgba(60, 64, 67, 0.15);\n",
              "      fill: #174EA6;\n",
              "    }\n",
              "\n",
              "    [theme=dark] .colab-df-convert {\n",
              "      background-color: #3B4455;\n",
              "      fill: #D2E3FC;\n",
              "    }\n",
              "\n",
              "    [theme=dark] .colab-df-convert:hover {\n",
              "      background-color: #434B5C;\n",
              "      box-shadow: 0px 1px 3px 1px rgba(0, 0, 0, 0.15);\n",
              "      filter: drop-shadow(0px 1px 2px rgba(0, 0, 0, 0.3));\n",
              "      fill: #FFFFFF;\n",
              "    }\n",
              "  </style>\n",
              "\n",
              "      <script>\n",
              "        const buttonEl =\n",
              "          document.querySelector('#df-b4c098c7-8b60-42d2-8bd8-21c4e7e4e6cc button.colab-df-convert');\n",
              "        buttonEl.style.display =\n",
              "          google.colab.kernel.accessAllowed ? 'block' : 'none';\n",
              "\n",
              "        async function convertToInteractive(key) {\n",
              "          const element = document.querySelector('#df-b4c098c7-8b60-42d2-8bd8-21c4e7e4e6cc');\n",
              "          const dataTable =\n",
              "            await google.colab.kernel.invokeFunction('convertToInteractive',\n",
              "                                                     [key], {});\n",
              "          if (!dataTable) return;\n",
              "\n",
              "          const docLinkHtml = 'Like what you see? Visit the ' +\n",
              "            '<a target=\"_blank\" href=https://colab.research.google.com/notebooks/data_table.ipynb>data table notebook</a>'\n",
              "            + ' to learn more about interactive tables.';\n",
              "          element.innerHTML = '';\n",
              "          dataTable['output_type'] = 'display_data';\n",
              "          await google.colab.output.renderOutput(dataTable, element);\n",
              "          const docLink = document.createElement('div');\n",
              "          docLink.innerHTML = docLinkHtml;\n",
              "          element.appendChild(docLink);\n",
              "        }\n",
              "      </script>\n",
              "    </div>\n",
              "  </div>\n",
              "  "
            ]
          },
          "metadata": {},
          "execution_count": 46
        }
      ]
    },
    {
      "cell_type": "code",
      "source": [
        "_, bp_cost = box_plots(pink_cab.Cost_of_Trip) "
      ],
      "metadata": {
        "colab": {
          "base_uri": "https://localhost:8080/",
          "height": 269
        },
        "id": "_U9AX5bKV0sZ",
        "outputId": "25a5ea63-560e-404e-fbbc-72d456234e6d"
      },
      "execution_count": 47,
      "outputs": [
        {
          "output_type": "display_data",
          "data": {
            "text/plain": [
              "<Figure size 432x288 with 1 Axes>"
            ],
            "image/png": "[encoded data removed]"
          },
          "metadata": {
            "needs_background": "light"
          }
        }
      ]
    },
    {
      "cell_type": "markdown",
      "source": [
        "\n",
        "**We don't have information about travel times and we don't understand the nature of emissions, so I won't delete them**"
      ],
      "metadata": {
        "id": "k4TEhNdEcqvM"
      }
    },
    {
      "cell_type": "markdown",
      "source": [
        "### Holiday analysis"
      ],
      "metadata": {
        "id": "tpypW0G_cMaz"
      }
    },
    {
      "cell_type": "code",
      "source": [
        "print('mean trips in a non holiday day:')\n",
        "print('Pink cab')\n",
        "pink_cab_non_holid_trips = pink_cab[pink_cab.Holiday == 0]['Transaction_ID'].groupby(pink_cab.Date_of_Travel).count()\n",
        "print(pink_cab_non_holid_trips.sum()/pink_cab_non_holid_trips.shape[0])\n",
        "print('Yellow cab')\n",
        "yel_cab_non_holid_trips = yellow_cab[yellow_cab.Holiday == 0]['Transaction_ID'].groupby(yellow_cab.Date_of_Travel).count()\n",
        "print(yel_cab_non_holid_trips.sum()/yel_cab_non_holid_trips.shape[0])"
      ],
      "metadata": {
        "colab": {
          "base_uri": "https://localhost:8080/"
        },
        "id": "CcSu1Yq7fY3o",
        "outputId": "7e1f5ac8-e816-4b03-fb1a-c806daecb77c"
      },
      "execution_count": 48,
      "outputs": [
        {
          "output_type": "stream",
          "name": "stdout",
          "text": [
            "mean trips in a non holiday day:\n",
            "Pink cab\n",
            "77.15961538461538\n",
            "Yellow cab\n",
            "249.37596153846152\n"
          ]
        }
      ]
    },
    {
      "cell_type": "code",
      "source": [
        "print('mean trips in a holiday day:')\n",
        "print('Pink cab')\n",
        "pink_cab_holid_trips = pink_cab[pink_cab.Holiday == 1]['Transaction_ID'].groupby(pink_cab.Date_of_Travel).count()\n",
        "print(pink_cab_holid_trips.sum()/pink_cab_holid_trips.shape[0])\n",
        "print('Yellow cab')\n",
        "yel_cab_holid_trips = yellow_cab[yellow_cab.Holiday == 1]['Transaction_ID'].groupby(yellow_cab.Date_of_Travel).count()\n",
        "print(yel_cab_holid_trips.sum()/yel_cab_holid_trips.shape[0])"
      ],
      "metadata": {
        "colab": {
          "base_uri": "https://localhost:8080/"
        },
        "id": "bzmF0OGzi6wM",
        "outputId": "2fa844b3-7de5-4fe8-fd7a-5f1fd1f896ea"
      },
      "execution_count": 49,
      "outputs": [
        {
          "output_type": "stream",
          "name": "stdout",
          "text": [
            "mean trips in a holiday day:\n",
            "Pink cab\n",
            "81.18181818181819\n",
            "Yellow cab\n",
            "278.72727272727275\n"
          ]
        }
      ]
    },
    {
      "cell_type": "markdown",
      "source": [
        "we can see that mean of trips in holiday bigger than in an ordinary day on 5% for Pink cab and on 11% for Yellow cab"
      ],
      "metadata": {
        "id": "2sVeECQ-Sj2n"
      }
    },
    {
      "cell_type": "markdown",
      "source": [
        "### Clients & Trips analysis"
      ],
      "metadata": {
        "id": "OvDtnqSPdiX0"
      }
    },
    {
      "cell_type": "code",
      "source": [
        "#total clients diagram\n",
        "\n",
        "clients_num = transactions['Customer_ID'].groupby(transactions.Company).nunique()\n",
        "\n",
        "pie, ax = plt.subplots(figsize=[10,6])\n",
        "labels = clients_num.keys()\n",
        "plt.pie(x=clients_num, autopct=\"%.1f%%\", labels=list(labels), pctdistance=0.5)\n",
        "plt.title(\"Yellow & Pink Cab Total Users Overview\", fontsize=14)\n",
        "pie.savefig(\"Total_users.png\")"
      ],
      "metadata": {
        "colab": {
          "base_uri": "https://localhost:8080/",
          "height": 374
        },
        "id": "rq2hjaK2TNph",
        "outputId": "f011fd3a-25f4-4406-a3c0-de68d5487327"
      },
      "execution_count": 50,
      "outputs": [
        {
          "output_type": "display_data",
          "data": {
            "text/plain": [
              "<Figure size 720x432 with 1 Axes>"
            ],
            "image/png": "[encoded data removed]"
          },
          "metadata": {}
        }
      ]
    },
    {
      "cell_type": "markdown",
      "source": [
        "Yellow and Pink Cab firms have different in number of clients about 10%"
      ],
      "metadata": {
        "id": "w_9kNsZMyNFM"
      }
    },
    {
      "cell_type": "code",
      "source": [
        "#total trips diagram\n",
        "\n",
        "trips_num = transactions['Transaction_ID'].groupby(transactions.Company).nunique()\n",
        "\n",
        "pie, ax = plt.subplots(figsize=[10,6])\n",
        "labels = trips_num.keys()\n",
        "plt.pie(x=trips_num, autopct=\"%.1f%%\", labels=list(labels), pctdistance=0.5)\n",
        "plt.title(\"Yellow & Pink Cab Total Trips Overview\", fontsize=14)\n",
        "pie.savefig(\"Total_trips.png\")"
      ],
      "metadata": {
        "colab": {
          "base_uri": "https://localhost:8080/",
          "height": 374
        },
        "id": "VGriEM1TShSM",
        "outputId": "a3831e4e-eba4-47ea-cf05-93790b55a5e5"
      },
      "execution_count": 51,
      "outputs": [
        {
          "output_type": "display_data",
          "data": {
            "text/plain": [
              "<Figure size 720x432 with 1 Axes>"
            ],
            "image/png": "[encoded data removed]"
          },
          "metadata": {}
        }
      ]
    },
    {
      "cell_type": "markdown",
      "source": [
        "Yellow Cab firm has number of trips in 3 times bigger than Pink Cab"
      ],
      "metadata": {
        "id": "Ji8iNxRBye83"
      }
    },
    {
      "cell_type": "code",
      "source": [
        "#Number Of Trips To Cities\n",
        "\n",
        "cities_distr_trips = transactions.groupby(['City', 'Company'])['Transaction_ID'].count().reset_index()\n",
        "cities_distr_trips.rename(columns={\"Transaction_ID\": \"Number_of_trips\"}, inplace=True)\n",
        "\n",
        "dims = (14, 6)\n",
        "fig, ax = plt.subplots(figsize= dims)\n",
        "\n",
        "g = sns.barplot(x=\"City\", y=\"Number_of_trips\", hue=\"Company\", ax=ax, data=cities_distr_trips);\n",
        "var = g.set_xticklabels(g.get_xticklabels(), rotation=90)\n",
        "plt.title('Number Of Trips To Cities', fontsize=16)\n",
        "plt.show()"
      ],
      "metadata": {
        "colab": {
          "base_uri": "https://localhost:8080/",
          "height": 483
        },
        "id": "Zb0CKCGLShVN",
        "outputId": "f02725f4-c36d-447b-a516-71a67cd1b7ee"
      },
      "execution_count": 52,
      "outputs": [
        {
          "output_type": "display_data",
          "data": {
            "text/plain": [
              "<Figure size 1008x432 with 1 Axes>"
            ],
            "image/png": "[encoded data removed]"
          },
          "metadata": {
            "needs_background": "light"
          }
        }
      ]
    },
    {
      "cell_type": "markdown",
      "source": [
        "Yellow Cab has a more trips in most cities"
      ],
      "metadata": {
        "id": "AumIDsP5ypeH"
      }
    },
    {
      "cell_type": "code",
      "source": [
        "#Number Of Clients To Cities\n",
        "\n",
        "cities_distr_users = transactions.groupby(['City', 'Company'])['Customer_ID'].nunique().reset_index()\n",
        "cities_distr_users.rename(columns={\"Customer_ID\": \"Number_of_clients\"}, inplace=True)\n",
        "\n",
        "dims = (14, 6)\n",
        "fig, ax = plt.subplots(figsize= dims)\n",
        "\n",
        "g = sns.barplot(x=\"City\", y=\"Number_of_clients\", hue=\"Company\", ax=ax, data=cities_distr_users, estimator= np.sum);\n",
        "var = g.set_xticklabels(g.get_xticklabels(), rotation=90)\n",
        "plt.title('Number Of Clients To Cities', fontsize=16)\n",
        "plt.show()"
      ],
      "metadata": {
        "colab": {
          "base_uri": "https://localhost:8080/",
          "height": 483
        },
        "id": "zJRRVSQFShYs",
        "outputId": "c0f39d8a-5ff4-401a-acee-0036ed08389c"
      },
      "execution_count": 53,
      "outputs": [
        {
          "output_type": "display_data",
          "data": {
            "text/plain": [
              "<Figure size 1008x432 with 1 Axes>"
            ],
            "image/png": "[encoded data removed]"
          },
          "metadata": {
            "needs_background": "light"
          }
        }
      ]
    },
    {
      "cell_type": "markdown",
      "source": [
        "Number of clients by cities totally different than number of trips. In Los Angeles both companies have almost the same namber of clients, but trips Yellow Cab has a more. Pink Cab has a advantage only in 4 cities: Pittsburg, Sacramento, Nashville, San Diego. But differens not to big"
      ],
      "metadata": {
        "id": "2Nsb1OWKzA29"
      }
    },
    {
      "cell_type": "code",
      "source": [
        "#Travel frequency\n",
        "\n",
        "# month = cab.groupby(['Month']).Transaction_ID.count()\n",
        "# year = cab.groupby(['Year']).Transaction_ID.count()\n",
        "\n",
        "month_distr_trips = transactions.groupby(['Month', 'Company'])['Transaction_ID'].nunique().reset_index()\n",
        "month_distr_trips.rename(columns={\"Transaction_ID\": \"Number_of_trips\"}, inplace=True)\n",
        "map = {1:'January', 2:'February', 3:'March', 4:'April', 5:'May', 6:'June', 7:'Jule', 8:'August', 9:'September', 10:'October', 11:'November', 12:'December'}\n",
        "month_distr_trips['Month'] = month_distr_trips.Month.map(map)\n",
        "\n",
        "dims = (14, 6)\n",
        "fig, ax = plt.subplots(figsize= dims)\n",
        "\n",
        "g = sns.barplot(x=\"Month\", y=\"Number_of_trips\", hue=\"Company\", ax=ax, data=month_distr_trips, estimator= np.sum);\n",
        "var = g.set_xticklabels(g.get_xticklabels(), rotation=90)\n",
        "plt.title('Number Of Trips To Month', fontsize=16)\n",
        "plt.show()"
      ],
      "metadata": {
        "colab": {
          "base_uri": "https://localhost:8080/",
          "height": 451
        },
        "id": "7N_Vu-Waeg-0",
        "outputId": "d1a88161-f722-42a9-9bed-307f9cb8dcbb"
      },
      "execution_count": 54,
      "outputs": [
        {
          "output_type": "display_data",
          "data": {
            "text/plain": [
              "<Figure size 1008x432 with 1 Axes>"
            ],
            "image/png": "[encoded data removed]"
          },
          "metadata": {
            "needs_background": "light"
          }
        }
      ]
    },
    {
      "cell_type": "markdown",
      "source": [
        "The most intensive month for both companies are October and December. The most calm are January and February"
      ],
      "metadata": {
        "id": "R3pFpqf20Pia"
      }
    },
    {
      "cell_type": "code",
      "source": [
        "#Travel frequency\n",
        "\n",
        "# month = cab.groupby(['Month']).Transaction_ID.count()\n",
        "# year = cab.groupby(['Year']).Transaction_ID.count()\n",
        "\n",
        "year_distr_trips = transactions.groupby(['Year', 'Company'])['Transaction_ID'].nunique().reset_index()\n",
        "year_distr_trips.rename(columns={\"Transaction_ID\": \"Number_of_trips\"}, inplace=True)\n",
        "\n",
        "dims = (14, 6)\n",
        "fig, ax = plt.subplots(figsize= dims)\n",
        "\n",
        "g = sns.barplot(x=\"Year\", y=\"Number_of_trips\", hue=\"Company\", ax=ax, data=year_distr_trips, estimator= np.sum)\n",
        "for i in g.containers:\n",
        "    g.bar_label(i,)\n",
        "plt.title('Number Of Trips To Year', fontsize=16)\n",
        "plt.show()"
      ],
      "metadata": {
        "colab": {
          "base_uri": "https://localhost:8080/",
          "height": 406
        },
        "id": "L3ogRnZFgsQK",
        "outputId": "2834232a-ecb7-4818-954b-6ce8b9a9c095"
      },
      "execution_count": 55,
      "outputs": [
        {
          "output_type": "display_data",
          "data": {
            "text/plain": [
              "<Figure size 1008x432 with 1 Axes>"
            ],
            "image/png": "[encoded data removed]"
          },
          "metadata": {
            "needs_background": "light"
          }
        }
      ]
    },
    {
      "cell_type": "markdown",
      "source": [
        "in 2018 both companies has a fewer trips than in 2017"
      ],
      "metadata": {
        "id": "CbtLosij0iQO"
      }
    },
    {
      "cell_type": "markdown",
      "source": [
        "### KM_Travelled\t& Price_Charged\t& Cost_of_Trip & Profit Analysis"
      ],
      "metadata": {
        "id": "7lSjYXhOdriZ"
      }
    },
    {
      "cell_type": "code",
      "source": [
        "pink_cab.columns"
      ],
      "metadata": {
        "colab": {
          "base_uri": "https://localhost:8080/"
        },
        "id": "lOdQnNRhjGEY",
        "outputId": "2f3aa0b5-3e78-49e2-fa7d-467660b0deff"
      },
      "execution_count": 56,
      "outputs": [
        {
          "output_type": "execute_result",
          "data": {
            "text/plain": [
              "Index(['Transaction_ID', 'Date_of_Travel', 'Company', 'City', 'KM_Travelled',\n",
              "       'Price_Charged', 'Cost_of_Trip', 'Month', 'Year', 'Customer_ID',\n",
              "       'Payment_Mode', 'Gender', 'Age', 'Income_(USD/Month)', 'Population',\n",
              "       'Users', 'Holiday'],\n",
              "      dtype='object')"
            ]
          },
          "metadata": {},
          "execution_count": 56
        }
      ]
    },
    {
      "cell_type": "code",
      "source": [
        "transactions['Profit'] = transactions['Price_Charged'] - transactions['Cost_of_Trip']\n",
        "transactions['Profit_per_KM'] = transactions['Profit'] / transactions['KM_Travelled']"
      ],
      "metadata": {
        "id": "_2TQ54kydK_Y"
      },
      "execution_count": 57,
      "outputs": []
    },
    {
      "cell_type": "code",
      "source": [
        "profit_distr = transactions.groupby(['Year', 'Company'])['Profit'].mean().reset_index()\n",
        "# profit_distr.rename(columns={\"Transaction_ID\": \"Number_of_trips\"}, inplace=True)\n",
        "\n",
        "dims = (14, 6)\n",
        "fig, ax = plt.subplots(figsize= dims)\n",
        "\n",
        "g = sns.barplot(x=\"Year\", y=\"Profit\", hue=\"Company\", ax=ax, data=profit_distr)\n",
        "for i in g.containers:\n",
        "    g.bar_label(i,)\n",
        "plt.title('Yellow&Pink Cab Company Mean Profit By Year', fontsize=16)\n",
        "plt.show()"
      ],
      "metadata": {
        "colab": {
          "base_uri": "https://localhost:8080/",
          "height": 406
        },
        "id": "MrUIYL-JShbb",
        "outputId": "8f98526d-11a3-4331-d6a9-8f7a36f0952c"
      },
      "execution_count": 58,
      "outputs": [
        {
          "output_type": "display_data",
          "data": {
            "text/plain": [
              "<Figure size 1008x432 with 1 Axes>"
            ],
            "image/png": "[encoded data removed]"
          },
          "metadata": {
            "needs_background": "light"
          }
        }
      ]
    },
    {
      "cell_type": "markdown",
      "source": [
        "Yellow Cab has higer profit than Pink Yellow Cab. in 2018 profit is less for both company"
      ],
      "metadata": {
        "id": "hZslAHJbtiiF"
      }
    },
    {
      "cell_type": "code",
      "source": [
        "profit_km_distr = transactions.groupby(['Year', 'Company'])['Profit_per_KM'].mean().reset_index()\n",
        "# profit_distr.rename(columns={\"Transaction_ID\": \"Number_of_trips\"}, inplace=True)\n",
        "\n",
        "dims = (14, 6)\n",
        "fig, ax = plt.subplots(figsize= dims)\n",
        "\n",
        "g = sns.barplot(x=\"Year\", y=\"Profit_per_KM\", hue=\"Company\", ax=ax, data=profit_km_distr)\n",
        "for i in g.containers:\n",
        "    g.bar_label(i,)\n",
        "plt.title('Yellow&Pink Cab Company Profit Per KM By Year', fontsize=16)\n",
        "plt.show()"
      ],
      "metadata": {
        "id": "c1syvJH_nRoC",
        "colab": {
          "base_uri": "https://localhost:8080/",
          "height": 406
        },
        "outputId": "b7f9dddf-e3fd-42cd-d61a-cc025eaaa6f4"
      },
      "execution_count": 59,
      "outputs": [
        {
          "output_type": "display_data",
          "data": {
            "text/plain": [
              "<Figure size 1008x432 with 1 Axes>"
            ],
            "image/png": "[encoded data removed]"
          },
          "metadata": {
            "needs_background": "light"
          }
        }
      ]
    },
    {
      "cell_type": "markdown",
      "source": [
        "We can see that profit doesn't depend of KM"
      ],
      "metadata": {
        "id": "FKG9il1UuAPF"
      }
    },
    {
      "cell_type": "markdown",
      "source": [
        "Let's see how often companies work at a loss"
      ],
      "metadata": {
        "id": "gb51DGP6uQI4"
      }
    },
    {
      "cell_type": "code",
      "source": [
        "transactions['Work_at_loss'] = transactions.Profit.apply(lambda x: 'Work at a loss' if x < 0 else 'Work with a profit')"
      ],
      "metadata": {
        "id": "y3x8oPpi_TDN"
      },
      "execution_count": 60,
      "outputs": []
    },
    {
      "cell_type": "code",
      "source": [
        "#work at a loss\n",
        "\n",
        "loss_work_count_p = transactions[transactions.Company=='Pink Cab'].groupby('Work_at_loss')['Transaction_ID'].count()\n",
        "loss_work_count_y = transactions[transactions.Company=='Yellow Cab'].groupby('Work_at_loss')['Transaction_ID'].count()\n",
        "\n",
        "fig = plt.figure(figsize=(8,4),dpi=120)\n",
        "\n",
        "\n",
        "ax1 = fig.add_subplot(121)\n",
        "labels1 = loss_work_count_p.keys()\n",
        "textprops = {\"fontsize\":8}\n",
        "ax1.pie(x=loss_work_count_p, autopct=\"%.1f%%\", labels=list(labels1), textprops=textprops)\n",
        "\n",
        "plt.title(\"Pink Cab Company's Work At A Loss\", fontsize=10)\n",
        "# pie.savefig(\"Total_trips.png\")\n",
        "\n",
        "\n",
        "ax2 = fig.add_subplot(122)\n",
        "labels2 = loss_work_count_y.keys()\n",
        "ax2.pie(x=loss_work_count_y, autopct=\"%.1f%%\", labels=list(labels2), textprops=textprops)\n",
        "plt.title(\"Yellow Cab Company's Work At A Loss\", fontsize=10)\n",
        "# pie.savefig(\"Total_trips.png\")\n",
        "plt.show()\n"
      ],
      "metadata": {
        "id": "0RynnQClnRqS",
        "colab": {
          "base_uri": "https://localhost:8080/",
          "height": 403
        },
        "outputId": "f395faf0-ecb1-4f96-9ec4-74a2131bb630"
      },
      "execution_count": 61,
      "outputs": [
        {
          "output_type": "display_data",
          "data": {
            "text/plain": [
              "<Figure size 960x480 with 2 Axes>"
            ],
            "image/png": "[encoded data removed]"
          },
          "metadata": {}
        }
      ]
    },
    {
      "cell_type": "markdown",
      "source": [
        "**Pink Cab** Company ofter work at a loss."
      ],
      "metadata": {
        "id": "6c7fCNC7GG5P"
      }
    },
    {
      "cell_type": "code",
      "source": [
        "only_profit_distr = transactions[transactions.Work_at_loss=='Work with a profit'].groupby(['Year', 'Company'])['Profit'].mean().reset_index()\n",
        "# profit_distr.rename(columns={\"Transaction_ID\": \"Number_of_trips\"}, inplace=True)\n",
        "\n",
        "dims = (14, 6)\n",
        "fig, ax = plt.subplots(figsize= dims)\n",
        "\n",
        "g = sns.barplot(x=\"Year\", y=\"Profit\", hue=\"Company\", ax=ax, data=only_profit_distr)\n",
        "for i in g.containers:\n",
        "    g.bar_label(i,)\n",
        "plt.title('Yellow&Pink Cab Company Mean Profit By Year (only profitable trips)', fontsize=16)\n",
        "plt.show()"
      ],
      "metadata": {
        "id": "PcgoHL_2nRwv",
        "colab": {
          "base_uri": "https://localhost:8080/",
          "height": 406
        },
        "outputId": "9c4c2eb1-9e59-4cb5-c413-d71834567b66"
      },
      "execution_count": 62,
      "outputs": [
        {
          "output_type": "display_data",
          "data": {
            "text/plain": [
              "<Figure size 1008x432 with 1 Axes>"
            ],
            "image/png": "[encoded data removed]"
          },
          "metadata": {
            "needs_background": "light"
          }
        }
      ]
    },
    {
      "cell_type": "markdown",
      "source": [
        "working at a loss does not greatly affect the difference in the average size of the profit"
      ],
      "metadata": {
        "id": "FGNF8BglHHdZ"
      }
    },
    {
      "cell_type": "code",
      "source": [
        "km_distr = transactions.groupby(['Year', 'Company'])['KM_Travelled'].mean().reset_index()\n",
        "# profit_distr.rename(columns={\"Transaction_ID\": \"Number_of_trips\"}, inplace=True)\n",
        "\n",
        "dims = (14, 6)\n",
        "fig, ax = plt.subplots(figsize= dims)\n",
        "\n",
        "g = sns.barplot(x=\"Year\", y=\"KM_Travelled\", hue=\"Company\", ax=ax, data=km_distr)\n",
        "for i in g.containers:\n",
        "    g.bar_label(i,)\n",
        "plt.title('Yellow&Pink Cab Company Mean KM Travelled by Year', fontsize=16)\n",
        "plt.show()"
      ],
      "metadata": {
        "id": "SfEP29t2nR0f",
        "colab": {
          "base_uri": "https://localhost:8080/",
          "height": 406
        },
        "outputId": "e20e8f67-64b3-4462-8da2-80b3ac02f10e"
      },
      "execution_count": 63,
      "outputs": [
        {
          "output_type": "display_data",
          "data": {
            "text/plain": [
              "<Figure size 1008x432 with 1 Axes>"
            ],
            "image/png": "[encoded data removed]"
          },
          "metadata": {
            "needs_background": "light"
          }
        }
      ]
    },
    {
      "cell_type": "markdown",
      "source": [
        "The average tavel distance is about the same for both companies. "
      ],
      "metadata": {
        "id": "YjruIONj8BT4"
      }
    },
    {
      "cell_type": "code",
      "source": [
        "mean_price = transactions.groupby(['Year', 'Company'])['Price_Charged'].mean().reset_index()\n",
        "# profit_distr.rename(columns={\"Transaction_ID\": \"Number_of_trips\"}, inplace=True)\n",
        "\n",
        "dims = (14, 6)\n",
        "fig, ax = plt.subplots(figsize= dims)\n",
        "\n",
        "g = sns.barplot(x=\"Year\", y=\"Price_Charged\", hue=\"Company\", ax=ax, data=mean_price)\n",
        "for i in g.containers:\n",
        "    g.bar_label(i,)\n",
        "plt.title('Yellow&Pink Cab Company Mean Price of Trip by Year', fontsize=16)\n",
        "plt.show()"
      ],
      "metadata": {
        "colab": {
          "base_uri": "https://localhost:8080/",
          "height": 406
        },
        "id": "2T4UiRCP8Rpj",
        "outputId": "945167d6-5769-4de2-daee-0b67b573c7ff"
      },
      "execution_count": 64,
      "outputs": [
        {
          "output_type": "display_data",
          "data": {
            "text/plain": [
              "<Figure size 1008x432 with 1 Axes>"
            ],
            "image/png": "[encoded data removed]"
          },
          "metadata": {
            "needs_background": "light"
          }
        }
      ]
    },
    {
      "cell_type": "code",
      "source": [
        "mean_cost = transactions.groupby(['Year', 'Company'])['Cost_of_Trip'].mean().reset_index()\n",
        "# profit_distr.rename(columns={\"Transaction_ID\": \"Number_of_trips\"}, inplace=True)\n",
        "\n",
        "dims = (14, 6)\n",
        "fig, ax = plt.subplots(figsize= dims)\n",
        "\n",
        "g = sns.barplot(x=\"Year\", y=\"Cost_of_Trip\", hue=\"Company\", ax=ax, data=mean_cost)\n",
        "for i in g.containers:\n",
        "    g.bar_label(i,)\n",
        "plt.title('Yellow&Pink Cab Company Mean Cost of Trip by Year', fontsize=16)\n",
        "plt.show()"
      ],
      "metadata": {
        "id": "Iwhsd3BmnR2j",
        "colab": {
          "base_uri": "https://localhost:8080/",
          "height": 406
        },
        "outputId": "ac31ce2f-8944-42e6-932c-6f3d58c90611"
      },
      "execution_count": 65,
      "outputs": [
        {
          "output_type": "display_data",
          "data": {
            "text/plain": [
              "<Figure size 1008x432 with 1 Axes>"
            ],
            "image/png": "[encoded data removed]"
          },
          "metadata": {
            "needs_background": "light"
          }
        }
      ]
    },
    {
      "cell_type": "markdown",
      "source": [
        "The difference in average costs between 2 companies is about 20%, but the difference in price is about 48%."
      ],
      "metadata": {
        "id": "EyNA2n909Nca"
      }
    },
    {
      "cell_type": "markdown",
      "source": [
        "### Gender & Income analysis"
      ],
      "metadata": {
        "id": "1uzXPvPocd1B"
      }
    },
    {
      "cell_type": "code",
      "source": [
        "\n",
        "\n",
        "gender_p = transactions[transactions.Company=='Pink Cab'].groupby('Gender')['Customer_ID'].nunique()\n",
        "gender_y = transactions[transactions.Company=='Yellow Cab'].groupby('Gender')['Customer_ID'].nunique()\n",
        "\n",
        "fig = plt.figure(figsize=(8,4),dpi=120)\n",
        "\n",
        "\n",
        "ax1 = fig.add_subplot(121)\n",
        "labels1 = gender_p.keys()\n",
        "textprops = {\"fontsize\":8}\n",
        "ax1.pie(x=gender_p, autopct=\"%.1f%%\", labels=list(labels1), textprops=textprops)\n",
        "\n",
        "plt.title(\"Pink Cab Company's Gender Distribution\", fontsize=10)\n",
        "# pie.savefig(\"Total_trips.png\")\n",
        "\n",
        "\n",
        "ax2 = fig.add_subplot(122)\n",
        "labels2 = gender_y.keys()\n",
        "ax2.pie(x=gender_y, autopct=\"%.1f%%\", labels=list(labels2), textprops=textprops)\n",
        "plt.title(\"Yellow Cab Company's Gender Distribution\", fontsize=10)\n",
        "# pie.savefig(\"Total_trips.png\")\n",
        "plt.show()"
      ],
      "metadata": {
        "colab": {
          "base_uri": "https://localhost:8080/",
          "height": 403
        },
        "id": "Emehu1gJ-rnt",
        "outputId": "b4567407-833b-41fd-e2c0-8686c3fcb071"
      },
      "execution_count": 66,
      "outputs": [
        {
          "output_type": "display_data",
          "data": {
            "text/plain": [
              "<Figure size 960x480 with 2 Axes>"
            ],
            "image/png": "[encoded data removed]"
          },
          "metadata": {}
        }
      ]
    },
    {
      "cell_type": "code",
      "source": [
        "gender_profit_p = transactions[transactions.Company=='Pink Cab'].groupby('Gender')['Profit'].sum()\n",
        "gender_profit_y = transactions[transactions.Company=='Yellow Cab'].groupby('Gender')['Profit'].sum()\n",
        "\n",
        "fig = plt.figure(figsize=(8,4),dpi=120)\n",
        "\n",
        "\n",
        "ax1 = fig.add_subplot(121)\n",
        "labels1 = gender_profit_p.keys()\n",
        "textprops = {\"fontsize\":8}\n",
        "ax1.pie(x=gender_profit_p, autopct=\"%.1f%%\", labels=list(labels1), textprops=textprops)\n",
        "\n",
        "plt.title(\"Pink Cab Company's Profit Share by Gender\", fontsize=10)\n",
        "# pie.savefig(\"Total_trips.png\")\n",
        "\n",
        "\n",
        "ax2 = fig.add_subplot(122)\n",
        "labels2 = gender_profit_y.keys()\n",
        "ax2.pie(x=gender_profit_y, autopct=\"%.1f%%\", labels=list(labels2), textprops=textprops)\n",
        "plt.title(\"Yellow Cab Company's Profit Share by Gender\", fontsize=10)\n",
        "# pie.savefig(\"Total_trips.png\")\n",
        "plt.show()"
      ],
      "metadata": {
        "colab": {
          "base_uri": "https://localhost:8080/",
          "height": 403
        },
        "id": "WqRNdpCMCLi8",
        "outputId": "68eded00-86e6-4cd7-88b4-08b120493e41"
      },
      "execution_count": 67,
      "outputs": [
        {
          "output_type": "display_data",
          "data": {
            "text/plain": [
              "<Figure size 960x480 with 2 Axes>"
            ],
            "image/png": "[encoded data removed]"
          },
          "metadata": {}
        }
      ]
    },
    {
      "cell_type": "markdown",
      "source": [
        "Profit distribution by gender is almost equal gender distribution. "
      ],
      "metadata": {
        "id": "xtR-Oxex1Lvh"
      }
    },
    {
      "cell_type": "code",
      "source": [
        "age_distr = transactions.groupby(['Age', 'Company'])['Customer_ID'].nunique().reset_index()\n",
        "# profit_distr.rename(columns={\"Transaction_ID\": \"Number_of_trips\"}, inplace=True)\n",
        "\n",
        "dims = (14, 6)\n",
        "fig, ax = plt.subplots(figsize= dims)\n",
        "\n",
        "g = sns.barplot(x=\"Age\", y=\"Customer_ID\", hue=\"Company\", ax=ax, data=age_distr, estimator= np.sum)\n",
        "plt.title('Age Distribution', fontsize=16)\n",
        "plt.show()"
      ],
      "metadata": {
        "colab": {
          "base_uri": "https://localhost:8080/",
          "height": 406
        },
        "id": "RUUi7o-Z-rqU",
        "outputId": "57b2561e-c7d9-4263-8480-4ccb1c98b11b"
      },
      "execution_count": 68,
      "outputs": [
        {
          "output_type": "display_data",
          "data": {
            "text/plain": [
              "<Figure size 1008x432 with 1 Axes>"
            ],
            "image/png": "[encoded data removed]"
          },
          "metadata": {
            "needs_background": "light"
          }
        }
      ]
    },
    {
      "cell_type": "code",
      "source": [
        "def func_ages_group(x):\n",
        "    if x >= 18 and x <= 25:\n",
        "        return \"18-25\"\n",
        "    elif x >= 26 and x <= 40:\n",
        "        return \"26-40\"\n",
        "    else:\n",
        "        return \"41-65\"\n",
        "\n",
        "\n",
        "transactions['Age_group'] = transactions['Age'].apply(func_ages_group)"
      ],
      "metadata": {
        "id": "zSeHukp63HwV"
      },
      "execution_count": 84,
      "outputs": []
    },
    {
      "cell_type": "code",
      "source": [
        "gender_p = transactions[transactions.Company=='Pink Cab'].groupby('Age_group')['Customer_ID'].nunique()\n",
        "gender_y = transactions[transactions.Company=='Yellow Cab'].groupby('Age_group')['Customer_ID'].nunique()\n",
        "\n",
        "fig = plt.figure(figsize=(8,4),dpi=120)\n",
        "\n",
        "\n",
        "ax1 = fig.add_subplot(121)\n",
        "labels1 = gender_p.keys()\n",
        "textprops = {\"fontsize\":8}\n",
        "ax1.pie(x=gender_p, autopct=\"%.1f%%\", labels=list(labels1), textprops=textprops)\n",
        "\n",
        "plt.title(\"Pink Cab Company's Age Groups\", fontsize=8)\n",
        "# pie.savefig(\"Total_trips.png\")\n",
        "\n",
        "\n",
        "ax2 = fig.add_subplot(122)\n",
        "labels2 = gender_y.keys()\n",
        "ax2.pie(x=gender_y, autopct=\"%.1f%%\", labels=list(labels2), textprops=textprops)\n",
        "plt.title(\"Yellow Cab Company's Age Groups\", fontsize=8)\n",
        "# pie.savefig(\"Total_trips.png\")\n",
        "plt.show()"
      ],
      "metadata": {
        "colab": {
          "base_uri": "https://localhost:8080/",
          "height": 399
        },
        "id": "QEEFmpvg2yM9",
        "outputId": "df4d57d4-f60f-41ed-b8ec-1ee69b31c2a2"
      },
      "execution_count": 83,
      "outputs": [
        {
          "output_type": "display_data",
          "data": {
            "text/plain": [
              "<Figure size 960x480 with 2 Axes>"
            ],
            "image/png": "[encoded data removed]"
          },
          "metadata": {}
        }
      ]
    },
    {
      "cell_type": "markdown",
      "source": [
        "the number of clients has been increasing for more than 40 years and is sharply decreasing"
      ],
      "metadata": {
        "id": "Ho6z0-yr1evd"
      }
    },
    {
      "cell_type": "code",
      "source": [
        "gender_profit_p = transactions[transactions.Company=='Pink Cab'].groupby('Age_group')['Profit'].sum()\n",
        "gender_profit_y = transactions[transactions.Company=='Yellow Cab'].groupby('Age_group')['Profit'].sum()\n",
        "\n",
        "fig = plt.figure(figsize=(8,4),dpi=120)\n",
        "\n",
        "\n",
        "ax1 = fig.add_subplot(121)\n",
        "labels1 = gender_profit_p.keys()\n",
        "textprops = {\"fontsize\":8}\n",
        "ax1.pie(x=gender_profit_p, autopct=\"%.1f%%\", labels=list(labels1), textprops=textprops)\n",
        "\n",
        "plt.title(\"Pink Cab Company's Profit Share by Age Groups\", fontsize=8)\n",
        "# pie.savefig(\"Total_trips.png\")\n",
        "\n",
        "\n",
        "ax2 = fig.add_subplot(122)\n",
        "labels2 = gender_profit_y.keys()\n",
        "ax2.pie(x=gender_profit_y, autopct=\"%.1f%%\", labels=list(labels2), textprops=textprops)\n",
        "plt.title(\"Yellow Cab Company's Profit Share by Age Groups\", fontsize=8)\n",
        "# pie.savefig(\"Total_trips.png\")\n",
        "plt.show()"
      ],
      "metadata": {
        "colab": {
          "base_uri": "https://localhost:8080/",
          "height": 399
        },
        "id": "kN_GL9V--rtG",
        "outputId": "3fdabb82-52cd-4016-bd6a-3f2c8c560e65"
      },
      "execution_count": 85,
      "outputs": [
        {
          "output_type": "display_data",
          "data": {
            "text/plain": [
              "<Figure size 960x480 with 2 Axes>"
            ],
            "image/png": "[encoded data removed]"
          },
          "metadata": {}
        }
      ]
    },
    {
      "cell_type": "markdown",
      "source": [
        "In both companies 73% of clients 18-40 years generate 73% profit"
      ],
      "metadata": {
        "id": "Pp-kktWM2Npm"
      }
    },
    {
      "cell_type": "code",
      "source": [
        "transactions['Income_(USD/Month)'].hist()"
      ],
      "metadata": {
        "colab": {
          "base_uri": "https://localhost:8080/",
          "height": 287
        },
        "id": "J8hM69mIPuv_",
        "outputId": "b1ab1511-163c-4313-ccf2-70c761f087f7"
      },
      "execution_count": 71,
      "outputs": [
        {
          "output_type": "execute_result",
          "data": {
            "text/plain": [
              "<AxesSubplot:>"
            ]
          },
          "metadata": {},
          "execution_count": 71
        },
        {
          "output_type": "display_data",
          "data": {
            "text/plain": [
              "<Figure size 432x288 with 1 Axes>"
            ],
            "image/png": "[encoded data removed]"
          },
          "metadata": {
            "needs_background": "light"
          }
        }
      ]
    },
    {
      "cell_type": "code",
      "source": [
        "def func_income_group(x):\n",
        "    if x >= 2000 and x <= 3000:\n",
        "        return \"< 3000\"\n",
        "    elif x >= 3001 and x <= 10000:\n",
        "        return \"3000-15000\"\n",
        "    else:\n",
        "        return \">15000\"\n",
        "\n",
        "\n",
        "transactions['Income_group'] = transactions['Income_(USD/Month)'].apply(func_income_group)"
      ],
      "metadata": {
        "id": "_sv8lGZaJEQs"
      },
      "execution_count": 72,
      "outputs": []
    },
    {
      "cell_type": "code",
      "source": [
        "income_profit_p = transactions[transactions.Company=='Pink Cab'].groupby('Income_group')['Customer_ID'].nunique()\n",
        "income_profit_y = transactions[transactions.Company=='Yellow Cab'].groupby('Income_group')['Customer_ID'].nunique()\n",
        "\n",
        "fig = plt.figure(figsize=(8,4),dpi=120)\n",
        "\n",
        "\n",
        "ax1 = fig.add_subplot(121)\n",
        "labels1 = income_profit_p.keys()\n",
        "textprops = {\"fontsize\":8}\n",
        "ax1.pie(x=income_profit_p, autopct=\"%.1f%%\", labels=list(labels1), textprops=textprops)\n",
        "\n",
        "plt.title(\"Pink Cab Company's Profit Share by Income Groups\", fontsize=8)\n",
        "# pie.savefig(\"Total_trips.png\")\n",
        "\n",
        "\n",
        "ax2 = fig.add_subplot(122)\n",
        "labels2 = income_profit_y.keys()\n",
        "ax2.pie(x=income_profit_y, autopct=\"%.1f%%\", labels=list(labels2), textprops=textprops)\n",
        "plt.title(\"Yellow Cab Company's Profit Share by Income Groups\", fontsize=8)\n",
        "# pie.savefig(\"Total_trips.png\")\n",
        "plt.show()"
      ],
      "metadata": {
        "colab": {
          "base_uri": "https://localhost:8080/",
          "height": 399
        },
        "id": "ZjEXPzpEJES-",
        "outputId": "0e87ea6e-1313-4de8-c590-964af81afc0e"
      },
      "execution_count": 73,
      "outputs": [
        {
          "output_type": "display_data",
          "data": {
            "text/plain": [
              "<Figure size 960x480 with 2 Axes>"
            ],
            "image/png": "[encoded data removed]"
          },
          "metadata": {}
        }
      ]
    },
    {
      "cell_type": "markdown",
      "source": [
        "68% of Profit generate clients with income more than 15000$/month"
      ],
      "metadata": {
        "id": "8YiU11OO3pNg"
      }
    },
    {
      "cell_type": "code",
      "source": [
        "transactions[['Age', 'Income_(USD/Month)']].corr()"
      ],
      "metadata": {
        "colab": {
          "base_uri": "https://localhost:8080/",
          "height": 112
        },
        "id": "gvDPtRnNJEWD",
        "outputId": "b84f8b02-f76a-48bc-dcd1-dd6e9cb3af4c"
      },
      "execution_count": 74,
      "outputs": [
        {
          "output_type": "execute_result",
          "data": {
            "text/plain": [
              "                         Age  Income_(USD/Month)\n",
              "Age                 1.000000            0.003907\n",
              "Income_(USD/Month)  0.003907            1.000000"
            ],
            "text/html": [
              "\n",
              "  <div id=\"df-5d107285-524b-48ee-9cfc-65bb619f3a62\">\n",
              "    <div class=\"colab-df-container\">\n",
              "      <div>\n",
              "<style scoped>\n",
              "    .dataframe tbody tr th:only-of-type {\n",
              "        vertical-align: middle;\n",
              "    }\n",
              "\n",
              "    .dataframe tbody tr th {\n",
              "        vertical-align: top;\n",
              "    }\n",
              "\n",
              "    .dataframe thead th {\n",
              "        text-align: right;\n",
              "    }\n",
              "</style>\n",
              "<table border=\"1\" class=\"dataframe\">\n",
              "  <thead>\n",
              "    <tr style=\"text-align: right;\">\n",
              "      <th></th>\n",
              "      <th>Age</th>\n",
              "      <th>Income_(USD/Month)</th>\n",
              "    </tr>\n",
              "  </thead>\n",
              "  <tbody>\n",
              "    <tr>\n",
              "      <th>Age</th>\n",
              "      <td>1.000000</td>\n",
              "      <td>0.003907</td>\n",
              "    </tr>\n",
              "    <tr>\n",
              "      <th>Income_(USD/Month)</th>\n",
              "      <td>0.003907</td>\n",
              "      <td>1.000000</td>\n",
              "    </tr>\n",
              "  </tbody>\n",
              "</table>\n",
              "</div>\n",
              "      <button class=\"colab-df-convert\" onclick=\"convertToInteractive('df-5d107285-524b-48ee-9cfc-65bb619f3a62')\"\n",
              "              title=\"Convert this dataframe to an interactive table.\"\n",
              "              style=\"display:none;\">\n",
              "        \n",
              "  <svg xmlns=\"http://www.w3.org/2000/svg\" height=\"24px\"viewBox=\"0 0 24 24\"\n",
              "       width=\"24px\">\n",
              "    <path d=\"M0 0h24v24H0V0z\" fill=\"none\"/>\n",
              "    <path d=\"M18.56 5.44l.94 2.06.94-2.06 2.06-.94-2.06-.94-.94-2.06-.94 2.06-2.06.94zm-11 1L8.5 8.5l.94-2.06 2.06-.94-2.06-.94L8.5 2.5l-.94 2.06-2.06.94zm10 10l.94 2.06.94-2.06 2.06-.94-2.06-.94-.94-2.06-.94 2.06-2.06.94z\"/><path d=\"M17.41 7.96l-1.37-1.37c-.4-.4-.92-.59-1.43-.59-.52 0-1.04.2-1.43.59L10.3 9.45l-7.72 7.72c-.78.78-.78 2.05 0 2.83L4 21.41c.39.39.9.59 1.41.59.51 0 1.02-.2 1.41-.59l7.78-7.78 2.81-2.81c.8-.78.8-2.07 0-2.86zM5.41 20L4 18.59l7.72-7.72 1.47 1.35L5.41 20z\"/>\n",
              "  </svg>\n",
              "      </button>\n",
              "      \n",
              "  <style>\n",
              "    .colab-df-container {\n",
              "      display:flex;\n",
              "      flex-wrap:wrap;\n",
              "      gap: 12px;\n",
              "    }\n",
              "\n",
              "    .colab-df-convert {\n",
              "      background-color: #E8F0FE;\n",
              "      border: none;\n",
              "      border-radius: 50%;\n",
              "      cursor: pointer;\n",
              "      display: none;\n",
              "      fill: #1967D2;\n",
              "      height: 32px;\n",
              "      padding: 0 0 0 0;\n",
              "      width: 32px;\n",
              "    }\n",
              "\n",
              "    .colab-df-convert:hover {\n",
              "      background-color: #E2EBFA;\n",
              "      box-shadow: 0px 1px 2px rgba(60, 64, 67, 0.3), 0px 1px 3px 1px rgba(60, 64, 67, 0.15);\n",
              "      fill: #174EA6;\n",
              "    }\n",
              "\n",
              "    [theme=dark] .colab-df-convert {\n",
              "      background-color: #3B4455;\n",
              "      fill: #D2E3FC;\n",
              "    }\n",
              "\n",
              "    [theme=dark] .colab-df-convert:hover {\n",
              "      background-color: #434B5C;\n",
              "      box-shadow: 0px 1px 3px 1px rgba(0, 0, 0, 0.15);\n",
              "      filter: drop-shadow(0px 1px 2px rgba(0, 0, 0, 0.3));\n",
              "      fill: #FFFFFF;\n",
              "    }\n",
              "  </style>\n",
              "\n",
              "      <script>\n",
              "        const buttonEl =\n",
              "          document.querySelector('#df-5d107285-524b-48ee-9cfc-65bb619f3a62 button.colab-df-convert');\n",
              "        buttonEl.style.display =\n",
              "          google.colab.kernel.accessAllowed ? 'block' : 'none';\n",
              "\n",
              "        async function convertToInteractive(key) {\n",
              "          const element = document.querySelector('#df-5d107285-524b-48ee-9cfc-65bb619f3a62');\n",
              "          const dataTable =\n",
              "            await google.colab.kernel.invokeFunction('convertToInteractive',\n",
              "                                                     [key], {});\n",
              "          if (!dataTable) return;\n",
              "\n",
              "          const docLinkHtml = 'Like what you see? Visit the ' +\n",
              "            '<a target=\"_blank\" href=https://colab.research.google.com/notebooks/data_table.ipynb>data table notebook</a>'\n",
              "            + ' to learn more about interactive tables.';\n",
              "          element.innerHTML = '';\n",
              "          dataTable['output_type'] = 'display_data';\n",
              "          await google.colab.output.renderOutput(dataTable, element);\n",
              "          const docLink = document.createElement('div');\n",
              "          docLink.innerHTML = docLinkHtml;\n",
              "          element.appendChild(docLink);\n",
              "        }\n",
              "      </script>\n",
              "    </div>\n",
              "  </div>\n",
              "  "
            ]
          },
          "metadata": {},
          "execution_count": 74
        }
      ]
    },
    {
      "cell_type": "markdown",
      "source": [
        "### Retention analysis"
      ],
      "metadata": {
        "id": "sQcLIuvDckaP"
      }
    },
    {
      "cell_type": "code",
      "source": [
        "retention = transactions.groupby(['Customer_ID', 'Company'])['Transaction_ID'].count().reset_index()\n",
        "retention.rename(columns={\"Transaction_ID\": \"Number_of_trips\"}, inplace=True)\n",
        "ret_graf = retention.groupby(['Number_of_trips', 'Company']).count().reset_index()\n",
        "ret_graf.rename(columns={\"Customer_ID\": \"Number_of_clients\"}, inplace=True)"
      ],
      "metadata": {
        "id": "O2LYkqbXRqDU"
      },
      "execution_count": 75,
      "outputs": []
    },
    {
      "cell_type": "code",
      "source": [
        "def func_retention_group(x):\n",
        "    if x < 5:\n",
        "        return \"<5\"\n",
        "    elif x >= 5 and x <= 15:\n",
        "        return \"5-15\"\n",
        "    elif x >= 16 and x <= 25:\n",
        "        return \"16-25\"\n",
        "    else:\n",
        "        return \">26\"\n",
        "\n",
        "\n",
        "ret_graf['Retention_group'] = ret_graf['Number_of_trips'].apply(func_retention_group)"
      ],
      "metadata": {
        "id": "45cArG3nTooC"
      },
      "execution_count": 76,
      "outputs": []
    },
    {
      "cell_type": "code",
      "source": [
        "retention_p = ret_graf[ret_graf.Company=='Pink Cab'].groupby('Retention_group')['Number_of_clients'].sum()\n",
        "retention_y = ret_graf[ret_graf.Company=='Yellow Cab'].groupby('Retention_group')['Number_of_clients'].sum()\n",
        "\n",
        "fig = plt.figure(figsize=(8,4),dpi=120)\n",
        "\n",
        "\n",
        "ax1 = fig.add_subplot(121)\n",
        "labels1 = retention_p.keys()\n",
        "textprops = {\"fontsize\":8}\n",
        "ax1.pie(x=retention_p, autopct=\"%.1f%%\", labels=list(labels1), textprops=textprops)\n",
        "\n",
        "plt.title(\"Pink Cab Company's Profit Share by Income Groups\", fontsize=8)\n",
        "# pie.savefig(\"Total_trips.png\")\n",
        "\n",
        "\n",
        "ax2 = fig.add_subplot(122)\n",
        "labels2 = retention_y.keys()\n",
        "ax2.pie(x=retention_y, autopct=\"%.1f%%\", labels=list(labels2), textprops=textprops)\n",
        "plt.title(\"Yellow Cab Company's Profit Share by Income Groups\", fontsize=8)\n",
        "# pie.savefig(\"Total_trips.png\")\n",
        "plt.show()"
      ],
      "metadata": {
        "colab": {
          "base_uri": "https://localhost:8080/",
          "height": 399
        },
        "id": "_3_QuP-DJEaR",
        "outputId": "9ddae050-d391-459d-f98f-83b4023a4729"
      },
      "execution_count": 77,
      "outputs": [
        {
          "output_type": "display_data",
          "data": {
            "text/plain": [
              "<Figure size 960x480 with 2 Axes>"
            ],
            "image/png": "[encoded data removed]"
          },
          "metadata": {}
        }
      ]
    },
    {
      "cell_type": "markdown",
      "source": [
        "Yellow Cab has 40% regular customer, Pink Cab only 17%"
      ],
      "metadata": {
        "id": "MWlNNdP-30uv"
      }
    },
    {
      "cell_type": "code",
      "source": [
        "retention_total = ret_graf.groupby(['Retention_group', 'Company'])['Number_of_clients'].sum().reset_index()\n",
        "dims = (14, 6)\n",
        "fig, ax = plt.subplots(figsize= dims)\n",
        "\n",
        "g = sns.barplot(x=\"Retention_group\", y=\"Number_of_clients\", hue=\"Company\", ax=ax, data=retention_total)\n",
        "# g = sns.countplot(x=\"Retention_group\", hue=\"Company\", data=ret_graf, ax=ax)\n",
        "plt.title('Retention', fontsize=16)\n",
        "for i in g.containers:\n",
        "    g.bar_label(i,)\n",
        "plt.show()"
      ],
      "metadata": {
        "colab": {
          "base_uri": "https://localhost:8080/",
          "height": 407
        },
        "id": "bfM7vCY-QplW",
        "outputId": "911510a3-9c68-4a2c-aaaa-a59602c58abc"
      },
      "execution_count": 78,
      "outputs": [
        {
          "output_type": "display_data",
          "data": {
            "text/plain": [
              "<Figure size 1008x432 with 1 Axes>"
            ],
            "image/png": "[encoded data removed]"
          },
          "metadata": {
            "needs_background": "light"
          }
        }
      ]
    },
    {
      "cell_type": "markdown",
      "source": [
        "**The number of clients of both companies is not much different, but due to the fact that people always return to the Yellow Cab Company , despite the higher price, the Yellow Cab Company has a bigger profit and more trips.**"
      ],
      "metadata": {
        "id": "lksfufbGaDIj"
      }
    },
    {
      "cell_type": "markdown",
      "source": [
        "##Recomendations:\n",
        "\n",
        "* with a 10% difference in the number of customers, the difference in the number of trips between the Yellow and Pink Cab companies is almost 3 times.\n",
        "\n",
        "* Pink Cab company has 13% of trips at a loss. Yellow Cab company - 5%.\n",
        "\n",
        "* Yellow Cab Company has a Profit in 2.2-2.4 times bigger than Pink Cab Company\n",
        "\n",
        "* the number of cities where Yellow Cab has an advatage in trips more, than Pink Company (15 and 4 accordingly).\n",
        "\n",
        "* Yellow Cab Company has 40% regular clients, 13.7% clients have more than 15 trips each. Pink Cab only 17% regular clients with 5-15 trips each.\n",
        "\n",
        "\n",
        "**Based on the analysis, we recommend the YELLOW CAB company for investment**"
      ],
      "metadata": {
        "id": "WrvgDVg14EYK"
      }
    },
    {
      "cell_type": "code",
      "source": [
        ""
      ],
      "metadata": {
        "id": "91XwYjsk4GEK"
      },
      "execution_count": null,
      "outputs": []
    }
  ]
}